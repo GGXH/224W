{
 "cells": [
  {
   "cell_type": "code",
   "execution_count": 1,
   "metadata": {
    "collapsed": true
   },
   "outputs": [],
   "source": [
    "import matplotlib\n",
    "import matplotlib.pyplot as plt\n",
    "import operator\n",
    "import pickle\n",
    "import snap\n",
    "%matplotlib inline"
   ]
  },
  {
   "cell_type": "code",
   "execution_count": 2,
   "metadata": {
    "collapsed": true
   },
   "outputs": [],
   "source": [
    "def get_comm_info(comm_file):\n",
    "    '''\n",
    "    get community information, two maps\n",
    "    map1: key: user id, value: community id array\n",
    "    map2: key: community id, value: user id array\n",
    "    '''\n",
    "    comm_map_usr = {}\n",
    "    comm_map_comm = {}\n",
    "    comm_id = 0\n",
    "    with open(comm_file, 'r') as cf:\n",
    "        for line in cf:\n",
    "            node_list = line.split('\\t')\n",
    "            node_list = [int(id) for id in node_list]\n",
    "            for id in node_list:\n",
    "                if id in comm_map_usr:\n",
    "                    comm_map_usr[id].append(comm_id)\n",
    "                else:\n",
    "                    comm_map_usr[id] = [comm_id]\n",
    "            comm_map_comm[comm_id] = node_list[:]\n",
    "            comm_id += 1\n",
    "    return comm_map_usr, comm_map_comm"
   ]
  },
  {
   "cell_type": "code",
   "execution_count": 3,
   "metadata": {
    "collapsed": true
   },
   "outputs": [],
   "source": [
    "gf_file = \"data/com-lj.ungraph.txt\"\n",
    "gf = snap.LoadEdgeList(snap.PUNGraph, gf_file, 0, 1)"
   ]
  },
  {
   "cell_type": "code",
   "execution_count": 4,
   "metadata": {
    "collapsed": false
   },
   "outputs": [
    {
     "name": "stdout",
     "output_type": "stream",
     "text": [
      "Load graph! With nodes  3997962  and edges  34681189\n"
     ]
    }
   ],
   "source": [
    "print \"Load graph! With nodes \", gf.GetNodes(), \" and edges \", gf.GetEdges()"
   ]
  },
  {
   "cell_type": "code",
   "execution_count": 5,
   "metadata": {
    "collapsed": false
   },
   "outputs": [
    {
     "name": "stdout",
     "output_type": "stream",
     "text": [
      "The history saving thread hit an unexpected error (OperationalError('database is locked',)).History will not be written to the database.\n"
     ]
    }
   ],
   "source": [
    "comm_file = 'data/com-lj.all.cmty.txt'\n",
    "\n",
    "comm_map_usr, comm_map_comm = get_comm_info(comm_file)"
   ]
  },
  {
   "cell_type": "code",
   "execution_count": 5,
   "metadata": {
    "collapsed": true
   },
   "outputs": [],
   "source": [
    "##--Get page rank centrality (may need to calibrate the parameter)\n",
    "pgrk_H = snap.TIntFltH()\n",
    "\n",
    "snap.GetPageRank(gf, pgrk_H)"
   ]
  },
  {
   "cell_type": "code",
   "execution_count": 8,
   "metadata": {
    "collapsed": false
   },
   "outputs": [],
   "source": [
    "##--convert hash to map and dump to pkl file\n",
    "pgrk_map = {}\n",
    "for key in pgrk_H:\n",
    "    pgrk_map[key] = pgrk_H[key]\n",
    "\n",
    "pgrk_file = \"pgrk.pkl\"\n",
    "\n",
    "with  open(pgrk_file, \"wb\") as fl:\n",
    "    pickle.dump(pgrk_map, fl)"
   ]
  },
  {
   "cell_type": "code",
   "execution_count": 9,
   "metadata": {
    "collapsed": true
   },
   "outputs": [],
   "source": [
    "##--reload pagerank data from pkl file\n",
    "pgrk_map = {}\n",
    "\n",
    "pgrk_file = \"pgrk.pkl\"\n",
    "\n",
    "with  open(pgrk_file, \"r\") as fl:\n",
    "    pgrk_map = pickle.load(fl)"
   ]
  },
  {
   "cell_type": "code",
   "execution_count": 15,
   "metadata": {
    "collapsed": true
   },
   "outputs": [],
   "source": [
    "##--page rank value\n",
    "pgrk_ary = []\n",
    "\n",
    "for key in pgrk_map:\n",
    "    pgrk_ary.append(pgrk_map[key])\n",
    "    \n",
    "pgrk_ary = sorted(pgrk_ary, reverse=True)"
   ]
  },
  {
   "cell_type": "code",
   "execution_count": 17,
   "metadata": {
    "collapsed": false
   },
   "outputs": [
    {
     "data": {
      "image/png": "[encoded data removed]",
      "text/plain": [
       "<matplotlib.figure.Figure at 0x7fbae9e60350>"
      ]
     },
     "metadata": {},
     "output_type": "display_data"
    }
   ],
   "source": [
    "plt.loglog(range(len(pgrk_ary)), pgrk_ary)\n",
    "plt.show()"
   ]
  },
  {
   "cell_type": "code",
   "execution_count": 24,
   "metadata": {
    "collapsed": true
   },
   "outputs": [],
   "source": [
    "##--sorted pagerank\n",
    "sorted_pgrk = sorted(pgrk_map.items(), key = operator.itemgetter(1), reverse=True)\n",
    "\n",
    "sorted_id = [ item[0] for item in sorted_pgrk ]"
   ]
  },
  {
   "cell_type": "code",
   "execution_count": 26,
   "metadata": {
    "collapsed": false
   },
   "outputs": [],
   "source": [
    "in_comm = []\n",
    "for id in sorted_id:\n",
    "    if id in comm_map_usr:\n",
    "        in_comm.append(1)\n",
    "    else:\n",
    "        in_comm.append(0)"
   ]
  },
  {
   "cell_type": "code",
   "execution_count": 29,
   "metadata": {
    "collapsed": false
   },
   "outputs": [
    {
     "name": "stdout",
     "output_type": "stream",
     "text": [
      "[9766, 9765, 447075, 4435, 2806, 54974, 11509, 13664, 23205, 7832, 10428, 5442, 50516, 57045, 1124620, 187509, 1335232, 864248, 1987803, 3389, 2791103, 9783, 170786, 9261, 7486, 78458, 13294, 6395, 817235, 865515, 2181652, 63840, 208336, 9772, 53198, 9779, 4492, 4128, 2883, 1656406, 146797, 1071911, 2890632, 1754869, 52171, 77918, 42463, 56256, 58926, 382932, 1554534, 155706, 52022, 18154, 470862, 1489387, 3900700, 77451, 9787, 38254, 55514, 53252, 258378, 75598, 53947, 6728, 107523, 52977, 48478, 6691, 6693, 107548, 9777, 1338374, 3302657, 53767, 1127525, 33625, 177607, 52984, 3165024, 9851, 4129, 170465, 17790, 23132, 9818, 15510, 52669, 52062, 53777, 16408, 10646, 77454, 1320096, 3966992, 11708, 17603, 6698, 293397]\n",
      "[0, 1, 0, 0, 1, 1, 0, 1, 0, 0, 1, 1, 0, 0, 0, 0, 0, 0, 0, 1, 0, 1, 1, 0, 1, 1, 1, 1, 0, 0, 0, 1, 1, 1, 0, 1, 1, 0, 1, 0, 1, 1, 0, 1, 1, 1, 1, 1, 0, 1, 0, 0, 1, 1, 0, 0, 0, 1, 1, 0, 1, 1, 0, 1, 1, 1, 0, 1, 1, 1, 1, 1, 1, 1, 0, 1, 0, 1, 0, 1, 0, 1, 0, 0, 1, 1, 1, 1, 1, 1, 1, 1, 0, 1, 0, 0, 1, 1, 1, 1]\n"
     ]
    }
   ],
   "source": [
    "print sorted_id[:100]\n",
    "print in_comm[:100]"
   ]
  },
  {
   "cell_type": "code",
   "execution_count": 6,
   "metadata": {
    "collapsed": true
   },
   "outputs": [],
   "source": [
    "##--get community size\n",
    "comm_size = {}\n",
    "\n",
    "for id in comm_map_comm:\n",
    "    comm_size[id] = len(comm_map_comm[id])\n",
    "    \n",
    "##--sorted community by its size\n",
    "sorted_comm_size = sorted(comm_size.items(), key = operator.itemgetter(1), reverse=True)\n",
    "\n",
    "sorted_id_comm_size = [ item[0] for item in sorted_comm_size ]"
   ]
  },
  {
   "cell_type": "code",
   "execution_count": 31,
   "metadata": {
    "collapsed": false
   },
   "outputs": [
    {
     "name": "stdout",
     "output_type": "stream",
     "text": [
      "[664006, 663287, 662541, 661354, 661646, 659019, 660448, 659444, 658401, 658204, 656578, 656690, 656062, 655618, 656293, 657769, 653762, 655297, 652794, 655187, 652773, 654692, 656993, 655724, 650822, 653769, 650830, 649876, 651333, 650282, 655378, 654480, 648906, 649277, 653852, 652810, 654792, 647361, 649472, 646601, 650692, 646614, 651867, 654102, 646467, 646457, 647536, 650839, 649199, 646443, 651075, 650517, 645207, 646633, 644803, 648913, 643217, 650292, 645070, 647231, 646669, 649549, 645193, 644280, 646805, 644289, 646919, 647921, 643516, 646745, 651391, 649020, 648031, 645395, 646141, 647076, 641906, 644238, 649321, 649884, 647371, 641437, 641679, 640634, 638559, 645436, 643522, 638781, 644419, 636069, 646476, 636074, 641446, 642258, 637719, 645993, 638888, 642763, 636050, 641642]\n"
     ]
    }
   ],
   "source": [
    "print sorted_id_comm_size[:100]"
   ]
  },
  {
   "cell_type": "code",
   "execution_count": 7,
   "metadata": {
    "collapsed": true
   },
   "outputs": [],
   "source": [
    "##--we see a single community as a graph\n",
    "def get_single_comm(gf, comm_map_comm, c_id):\n",
    "    '''\n",
    "    return a graph from a community in a graph\n",
    "    '''\n",
    "    node_id_list = comm_map_comm[c_id]\n",
    "    gf_comm = snap.TUNGraph.New()\n",
    "    for id in node_id_list:\n",
    "        gf_comm.AddNode(id)\n",
    "    for id in node_id_list:\n",
    "        ni = gf.GetNI(id)\n",
    "        deg = ni.GetDeg()\n",
    "        for nbr_i in xrange(deg):\n",
    "            nbr_id = ni.GetNbrNId(nbr_i)\n",
    "            if nbr_id in node_id_list:\n",
    "                gf_comm.AddEdge(id, nbr_id)\n",
    "    return gf_comm"
   ]
  },
  {
   "cell_type": "code",
   "execution_count": 8,
   "metadata": {
    "collapsed": false
   },
   "outputs": [],
   "source": [
    "##--rank nodes with ordered pagerank in each community, if we see each single community as a graph\n",
    "comm_high_pgrk_cnt = {}\n",
    "for i in xrange(len(sorted_id_comm_size)):\n",
    "    comm_gf = get_single_comm(gf, comm_map_comm, sorted_id_comm_size[i])\n",
    "    tmp_pgrk_H = snap.TIntFltH()\n",
    "    snap.GetPageRank(comm_gf, tmp_pgrk_H)\n",
    "    tmp_pgrk_map = {}\n",
    "    for key in tmp_pgrk_H:\n",
    "        tmp_pgrk_map[key] = tmp_pgrk_H[key]\n",
    "    tmp_sorted_pgrk = sorted(tmp_pgrk_map.items(), key = operator.itemgetter(1), reverse=True)\n",
    "    tmp_sorted_id_pgrk = [ item[0] for item in tmp_sorted_pgrk ]\n",
    "    comm_high_pgrk_cnt[sorted_id_comm_size[i]] = tmp_sorted_id_pgrk"
   ]
  },
  {
   "cell_type": "code",
   "execution_count": 9,
   "metadata": {
    "collapsed": true
   },
   "outputs": [],
   "source": [
    "pgrk_file = \"pgrk_commonly.pkl\"\n",
    "\n",
    "with  open(pgrk_file, \"wb\") as fl:\n",
    "    pickle.dump(comm_high_pgrk_cnt, fl)"
   ]
  },
  {
   "cell_type": "code",
   "execution_count": 10,
   "metadata": {
    "collapsed": true
   },
   "outputs": [],
   "source": [
    "##--we see a single community and its immediate friend as a graph\n",
    "def get_single_comm1st(gf, comm_map_comm, c_id):\n",
    "    '''\n",
    "    return a graph from a community in a graph\n",
    "    '''\n",
    "    node_id_list = comm_map_comm[c_id]\n",
    "    gf_comm = snap.TUNGraph.New()\n",
    "    for id in node_id_list:\n",
    "        gf_comm.AddNode(id)\n",
    "    for id in node_id_list:\n",
    "        ni = gf.GetNI(id)\n",
    "        deg = ni.GetDeg()\n",
    "        for nbr_i in xrange(deg):\n",
    "            nbr_id = ni.GetNbrNId(nbr_i)\n",
    "            if not gf_comm.IsNode(nbr_id):\n",
    "                gf_comm.AddNode(nbr_id)\n",
    "            gf_comm.AddEdge(id, nbr_id)\n",
    "    return gf_comm"
   ]
  },
  {
   "cell_type": "code",
   "execution_count": 12,
   "metadata": {
    "collapsed": false
   },
   "outputs": [],
   "source": [
    "##--rank nodes with ordered pagerank in each community, if we see each single community as a graph\n",
    "comm_high_pgrk_cnt_1st = {}\n",
    "for i in xrange(len(sorted_id_comm_size)):\n",
    "    comm_gf = get_single_comm1st(gf, comm_map_comm, sorted_id_comm_size[i])\n",
    "    tmp_pgrk_H = snap.TIntFltH()\n",
    "    snap.GetPageRank(comm_gf, tmp_pgrk_H)\n",
    "    tmp_pgrk_map = {}\n",
    "    for key in tmp_pgrk_H:\n",
    "        tmp_pgrk_map[key] = tmp_pgrk_H[key]\n",
    "    tmp_sorted_pgrk = sorted(tmp_pgrk_map.items(), key = operator.itemgetter(1), reverse=True)\n",
    "    tmp_sorted_id_pgrk = [ item[0] for item in tmp_sorted_pgrk ]\n",
    "    comm_high_pgrk_cnt_1st[sorted_id_comm_size[i]] = tmp_sorted_id_pgrk"
   ]
  },
  {
   "cell_type": "code",
   "execution_count": 13,
   "metadata": {
    "collapsed": true
   },
   "outputs": [],
   "source": [
    "pgrk_file = \"pgrk_comm1st.pkl\"\n",
    "\n",
    "with  open(pgrk_file, \"wb\") as fl:\n",
    "    pickle.dump(comm_high_pgrk_cnt_1st, fl)"
   ]
  },
  {
   "cell_type": "code",
   "execution_count": null,
   "metadata": {
    "collapsed": true
   },
   "outputs": [],
   "source": []
  }
 ],
 "metadata": {
  "kernelspec": {
   "display_name": "Python [Root]",
   "language": "python",
   "name": "Python [Root]"
  },
  "language_info": {
   "codemirror_mode": {
    "name": "ipython",
    "version": 2
   },
   "file_extension": ".py",
   "mimetype": "text/x-python",
   "name": "python",
   "nbconvert_exporter": "python",
   "pygments_lexer": "ipython2",
   "version": "2.7.12"
  }
 },
 "nbformat": 4,
 "nbformat_minor": 0
}
