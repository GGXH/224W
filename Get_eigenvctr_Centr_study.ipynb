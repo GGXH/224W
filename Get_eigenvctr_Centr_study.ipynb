{
 "cells": [
  {
   "cell_type": "code",
   "execution_count": 1,
   "metadata": {
    "collapsed": true
   },
   "outputs": [],
   "source": [
    "import gc\n",
    "import operator\n",
    "import pickle\n",
    "import snap"
   ]
  },
  {
   "cell_type": "code",
   "execution_count": 2,
   "metadata": {
    "collapsed": true
   },
   "outputs": [],
   "source": [
    "def get_comm_info(comm_file):\n",
    "    '''\n",
    "    get community information, two maps\n",
    "    map1: key: user id, value: community id array\n",
    "    map2: key: community id, value: user id array\n",
    "    '''\n",
    "    comm_map_usr = {}\n",
    "    comm_map_comm = {}\n",
    "    comm_id = 0\n",
    "    with open(comm_file, 'r') as cf:\n",
    "        for line in cf:\n",
    "            node_list = line.split('\\t')\n",
    "            node_list = [int(id) for id in node_list]\n",
    "            for id in node_list:\n",
    "                if id in comm_map_usr:\n",
    "                    comm_map_usr[id].append(comm_id)\n",
    "                else:\n",
    "                    comm_map_usr[id] = [comm_id]\n",
    "            comm_map_comm[comm_id] = node_list[:]\n",
    "            comm_id += 1\n",
    "    return comm_map_usr, comm_map_comm"
   ]
  },
  {
   "cell_type": "code",
   "execution_count": 3,
   "metadata": {
    "collapsed": true
   },
   "outputs": [],
   "source": [
    "gf_file = \"data/com-lj.ungraph.txt\"\n",
    "gf = snap.LoadEdgeList(snap.PUNGraph, gf_file, 0, 1)"
   ]
  },
  {
   "cell_type": "code",
   "execution_count": 4,
   "metadata": {
    "collapsed": false
   },
   "outputs": [
    {
     "name": "stdout",
     "output_type": "stream",
     "text": [
      "Load graph! With nodes  3997962  and edges  34681189\n"
     ]
    }
   ],
   "source": [
    "print \"Load graph! With nodes \", gf.GetNodes(), \" and edges \", gf.GetEdges()"
   ]
  },
  {
   "cell_type": "code",
   "execution_count": 5,
   "metadata": {
    "collapsed": true
   },
   "outputs": [],
   "source": [
    "comm_file = 'data/com-lj.all.cmty.txt'\n",
    "\n",
    "comm_map_usr, comm_map_comm = get_comm_info(comm_file)"
   ]
  },
  {
   "cell_type": "code",
   "execution_count": 5,
   "metadata": {
    "collapsed": true
   },
   "outputs": [],
   "source": [
    "##--get eigenvector centrality\n",
    "NIdEigenH = snap.TIntFltH()\n",
    "snap.GetEigenVectorCentr(gf, NIdEigenH)"
   ]
  },
  {
   "cell_type": "code",
   "execution_count": 6,
   "metadata": {
    "collapsed": true
   },
   "outputs": [],
   "source": [
    "##--convert hash to map and dump to pkl file\n",
    "eignv_map = {}\n",
    "for key in NIdEigenH:\n",
    "    eignv_map[key] = NIdEigenH[key]\n",
    "\n",
    "eignv_file = \"eignv.pkl\"\n",
    "\n",
    "with  open(eignv_file, \"wb\") as fl:\n",
    "    pickle.dump(eignv_map, fl)"
   ]
  },
  {
   "cell_type": "code",
   "execution_count": 7,
   "metadata": {
    "collapsed": true
   },
   "outputs": [],
   "source": [
    "##--load map from pkl file\n",
    "eignv_file = \"eignv.pkl\"\n",
    "\n",
    "eignv_map = {}\n",
    "with  open(eignv_file, \"r\") as fl:\n",
    "    eignv_map = pickle.load(fl)"
   ]
  },
  {
   "cell_type": "code",
   "execution_count": 10,
   "metadata": {
    "collapsed": false
   },
   "outputs": [],
   "source": [
    "##--sorted pagerank\n",
    "sorted_eignv = sorted(eignv_map.items(), key = operator.itemgetter(1), reverse=True)\n",
    "\n",
    "sorted_id = [ item[0] for item in sorted_eignv ]"
   ]
  },
  {
   "cell_type": "code",
   "execution_count": 15,
   "metadata": {
    "collapsed": false
   },
   "outputs": [],
   "source": [
    "##--check if the id in a community\n",
    "in_comm = []\n",
    "for id in sorted_id:\n",
    "    if id in comm_map_usr:\n",
    "        in_comm.append(1)\n",
    "    else:\n",
    "        in_comm.append(0)"
   ]
  },
  {
   "cell_type": "code",
   "execution_count": 16,
   "metadata": {
    "collapsed": false
   },
   "outputs": [
    {
     "name": "stdout",
     "output_type": "stream",
     "text": [
      "[15094, 15102, 15096, 619335, 15101, 619338, 619339, 15100, 15103, 619336, 619341, 185507, 15097, 1871938, 1871941, 1871943, 1889317, 1337762, 559255, 1871935, 180799, 1889144, 1871934, 1804132, 619369, 1889141, 1871939, 1889185, 642475, 1283053, 1889140, 15099, 619337, 1889138, 1334175, 1871936, 1889188, 1889137, 1334160, 15104, 1871940, 1415396, 1889186, 1889189, 1871937, 173441, 1871951, 1889172, 15098, 1871953, 1889143, 1889146, 1435609, 619342, 1889182, 1889192, 1889174, 1889139, 1871954, 1889167, 1889145, 15105, 11433, 1871952, 1035174, 1889184, 2241866, 1871942, 15106, 1607125, 619344, 1889183, 1415397, 619340, 2241864, 1589984, 2241891, 1889195, 2241869, 1889169, 2241867, 1889173, 1871944, 2241868, 1871960, 15122, 2050630, 2241857, 1610905, 1889199, 619374, 1283094, 2241865, 1871961, 1889142, 1215907, 1871945, 1889197, 1889198, 2241884]\n",
      "[1, 1, 1, 1, 1, 0, 1, 1, 1, 0, 1, 1, 1, 1, 1, 1, 1, 1, 1, 1, 1, 0, 1, 1, 0, 1, 1, 1, 1, 0, 0, 1, 1, 1, 1, 1, 1, 0, 1, 1, 1, 1, 0, 1, 1, 1, 0, 0, 1, 1, 1, 1, 1, 1, 1, 1, 1, 0, 1, 0, 1, 1, 1, 1, 1, 1, 0, 0, 1, 0, 1, 1, 1, 1, 1, 1, 0, 1, 1, 1, 1, 1, 1, 1, 1, 0, 0, 0, 0, 0, 0, 1, 0, 0, 0, 1, 1, 0, 1, 0]\n"
     ]
    }
   ],
   "source": [
    "print sorted_id[:100]\n",
    "print in_comm[:100]"
   ]
  },
  {
   "cell_type": "code",
   "execution_count": 8,
   "metadata": {
    "collapsed": true
   },
   "outputs": [],
   "source": [
    "##--get community size\n",
    "comm_size = {}\n",
    "\n",
    "for id in comm_map_comm:\n",
    "    comm_size[id] = len(comm_map_comm[id])\n",
    "    \n",
    "##--sorted community by its size\n",
    "sorted_comm_size = sorted(comm_size.items(), key = operator.itemgetter(1), reverse=True)\n",
    "\n",
    "sorted_id_comm_size = [ item[0] for item in sorted_comm_size ]"
   ]
  },
  {
   "cell_type": "code",
   "execution_count": 18,
   "metadata": {
    "collapsed": true
   },
   "outputs": [],
   "source": [
    "##--we see a single community as a graph\n",
    "def get_single_comm(gf, comm_map_comm, c_id):\n",
    "    '''\n",
    "    return a graph from a community in a graph\n",
    "    '''\n",
    "    node_id_list = comm_map_comm[c_id]\n",
    "    gf_comm = snap.TUNGraph.New()\n",
    "    for id in node_id_list:\n",
    "        gf_comm.AddNode(id)\n",
    "    for id in node_id_list:\n",
    "        ni = gf.GetNI(id)\n",
    "        deg = ni.GetDeg()\n",
    "        for nbr_i in xrange(deg):\n",
    "            nbr_id = ni.GetNbrNId(nbr_i)\n",
    "            if nbr_id in node_id_list:\n",
    "                gf_comm.AddEdge(id, nbr_id)\n",
    "    return gf_comm"
   ]
  },
  {
   "cell_type": "code",
   "execution_count": 19,
   "metadata": {
    "collapsed": true
   },
   "outputs": [],
   "source": [
    "##--find the node with highest degree centrality in each community, if we see each single community as a graph\n",
    "comm_high_eignv_cnt = {}\n",
    "for i in xrange(len(sorted_id_comm_size)):\n",
    "    comm_gf = get_single_comm(gf, comm_map_comm, sorted_id_comm_size[i])\n",
    "    tmp_NIdEigenH = snap.TIntFltH()\n",
    "    snap.GetEigenVectorCentr(comm_gf, tmp_NIdEigenH)\n",
    "    tmp_eignv_map = {}\n",
    "    for key in tmp_NIdEigenH:\n",
    "        tmp_eignv_map[key] = tmp_NIdEigenH[key]\n",
    "    tmp_sorted_eignv = sorted(tmp_eignv_map.items(), key = operator.itemgetter(1), reverse=True)\n",
    "    tmp_sorted_id_eignv = [ item[0] for item in tmp_sorted_eignv ]\n",
    "    comm_high_eignv_cnt[sorted_id_comm_size[i]] = tmp_sorted_id_eignv"
   ]
  },
  {
   "cell_type": "code",
   "execution_count": 20,
   "metadata": {
    "collapsed": true
   },
   "outputs": [],
   "source": [
    "eignv_file = \"eignv_commonly.pkl\"\n",
    "\n",
    "with  open(eignv_file, \"wb\") as fl:\n",
    "    pickle.dump(comm_high_eignv_cnt, fl)"
   ]
  },
  {
   "cell_type": "code",
   "execution_count": 6,
   "metadata": {
    "collapsed": true
   },
   "outputs": [],
   "source": [
    "##--we see a single community and its immediate friend as a graph\n",
    "def get_single_comm1st(gf, comm_map_comm, c_id):\n",
    "    '''\n",
    "    return a graph from a community in a graph\n",
    "    '''\n",
    "    node_id_list = comm_map_comm[c_id]\n",
    "    gf_comm = snap.TUNGraph.New()\n",
    "    for id in node_id_list:\n",
    "        gf_comm.AddNode(id)\n",
    "    for id in node_id_list:\n",
    "        ni = gf.GetNI(id)\n",
    "        deg = ni.GetDeg()\n",
    "        for nbr_i in xrange(deg):\n",
    "            nbr_id = ni.GetNbrNId(nbr_i)\n",
    "            if not gf_comm.IsNode(nbr_id):\n",
    "                gf_comm.AddNode(nbr_id)\n",
    "            gf_comm.AddEdge(id, nbr_id)\n",
    "    return gf_comm"
   ]
  },
  {
   "cell_type": "code",
   "execution_count": 9,
   "metadata": {
    "collapsed": false
   },
   "outputs": [
    {
     "ename": "KeyboardInterrupt",
     "evalue": "",
     "output_type": "error",
     "traceback": [
      "\u001b[1;31m---------------------------------------------------------------------------\u001b[0m",
      "\u001b[1;31mKeyboardInterrupt\u001b[0m                         Traceback (most recent call last)",
      "\u001b[1;32m<ipython-input-9-d0c509be4328>\u001b[0m in \u001b[0;36m<module>\u001b[1;34m()\u001b[0m\n\u001b[0;32m      2\u001b[0m \u001b[0mcomm_high_eignv_cnt1st\u001b[0m \u001b[1;33m=\u001b[0m \u001b[1;33m{\u001b[0m\u001b[1;33m}\u001b[0m\u001b[1;33m\u001b[0m\u001b[0m\n\u001b[0;32m      3\u001b[0m \u001b[1;32mfor\u001b[0m \u001b[0mi\u001b[0m \u001b[1;32min\u001b[0m \u001b[0mxrange\u001b[0m\u001b[1;33m(\u001b[0m\u001b[0mlen\u001b[0m\u001b[1;33m(\u001b[0m\u001b[0msorted_id_comm_size\u001b[0m\u001b[1;33m)\u001b[0m\u001b[1;33m)\u001b[0m\u001b[1;33m:\u001b[0m\u001b[1;33m\u001b[0m\u001b[0m\n\u001b[1;32m----> 4\u001b[1;33m     \u001b[0mgc\u001b[0m\u001b[1;33m.\u001b[0m\u001b[0mcollect\u001b[0m\u001b[1;33m(\u001b[0m\u001b[1;33m)\u001b[0m\u001b[1;33m\u001b[0m\u001b[0m\n\u001b[0m\u001b[0;32m      5\u001b[0m     \u001b[0mcomm_gf\u001b[0m \u001b[1;33m=\u001b[0m \u001b[0mget_single_comm1st\u001b[0m\u001b[1;33m(\u001b[0m\u001b[0mgf\u001b[0m\u001b[1;33m,\u001b[0m \u001b[0mcomm_map_comm\u001b[0m\u001b[1;33m,\u001b[0m \u001b[0msorted_id_comm_size\u001b[0m\u001b[1;33m[\u001b[0m\u001b[0mi\u001b[0m\u001b[1;33m]\u001b[0m\u001b[1;33m)\u001b[0m\u001b[1;33m\u001b[0m\u001b[0m\n\u001b[0;32m      6\u001b[0m     \u001b[0mtmp_NIdEigenH\u001b[0m \u001b[1;33m=\u001b[0m \u001b[0msnap\u001b[0m\u001b[1;33m.\u001b[0m\u001b[0mTIntFltH\u001b[0m\u001b[1;33m(\u001b[0m\u001b[1;33m)\u001b[0m\u001b[1;33m\u001b[0m\u001b[0m\n",
      "\u001b[1;31mKeyboardInterrupt\u001b[0m: "
     ]
    }
   ],
   "source": [
    "##--find the node with highest degree centrality in each community, if we see each single community as a graph\n",
    "comm_high_eignv_cnt1st = {}\n",
    "for i in xrange(len(sorted_id_comm_size)):\n",
    "    gc.collect()\n",
    "    comm_gf = get_single_comm1st(gf, comm_map_comm, sorted_id_comm_size[i])\n",
    "    tmp_NIdEigenH = snap.TIntFltH()\n",
    "    snap.GetEigenVectorCentr(comm_gf, tmp_NIdEigenH)\n",
    "    tmp_eignv_map = {}\n",
    "    for key in tmp_NIdEigenH:\n",
    "        tmp_eignv_map[key] = tmp_NIdEigenH[key]\n",
    "    tmp_sorted_eignv = sorted(tmp_eignv_map.items(), key = operator.itemgetter(1), reverse=True)\n",
    "    tmp_sorted_id_eignv = [ item[0] for item in tmp_sorted_eignv ]\n",
    "    comm_high_eignv_cnt1st[sorted_id_comm_size[i]] = tmp_sorted_id_eignv"
   ]
  },
  {
   "cell_type": "code",
   "execution_count": null,
   "metadata": {
    "collapsed": true
   },
   "outputs": [],
   "source": [
    "eignv_file = \"eignv_comm1st.pkl\"\n",
    "\n",
    "with  open(eignv_file, \"wb\") as fl:\n",
    "    pickle.dump(comm_high_eignv_cnt1st, fl)"
   ]
  },
  {
   "cell_type": "code",
   "execution_count": null,
   "metadata": {
    "collapsed": true
   },
   "outputs": [],
   "source": []
  }
 ],
 "metadata": {
  "kernelspec": {
   "display_name": "Python [Root]",
   "language": "python",
   "name": "Python [Root]"
  },
  "language_info": {
   "codemirror_mode": {
    "name": "ipython",
    "version": 2
   },
   "file_extension": ".py",
   "mimetype": "text/x-python",
   "name": "python",
   "nbconvert_exporter": "python",
   "pygments_lexer": "ipython2",
   "version": "2.7.12"
  }
 },
 "nbformat": 4,
 "nbformat_minor": 0
}
