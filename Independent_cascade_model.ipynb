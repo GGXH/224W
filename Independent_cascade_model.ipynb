{
 "cells": [
  {
   "cell_type": "code",
   "execution_count": 19,
   "metadata": {
    "collapsed": true
   },
   "outputs": [],
   "source": [
    "import operator\n",
    "import pandas as pd\n",
    "import pickle\n",
    "import random\n",
    "import snap"
   ]
  },
  {
   "cell_type": "code",
   "execution_count": 2,
   "metadata": {
    "collapsed": true
   },
   "outputs": [],
   "source": [
    "def get_comm_info(comm_file):\n",
    "    '''\n",
    "    get community information, two maps\n",
    "    map1: key: user id, value: community id array\n",
    "    map2: key: community id, value: user id array\n",
    "    '''\n",
    "    comm_map_usr = {}\n",
    "    comm_map_comm = {}\n",
    "    comm_id = 0\n",
    "    with open(comm_file, 'r') as cf:\n",
    "        for line in cf:\n",
    "            node_list = line.split('\\t')\n",
    "            node_list = [int(id) for id in node_list]\n",
    "            for id in node_list:\n",
    "                if id in comm_map_usr:\n",
    "                    comm_map_usr[id].append(comm_id)\n",
    "                else:\n",
    "                    comm_map_usr[id] = [comm_id]\n",
    "            comm_map_comm[comm_id] = node_list[:]\n",
    "            comm_id += 1\n",
    "    return comm_map_usr, comm_map_comm"
   ]
  },
  {
   "cell_type": "code",
   "execution_count": 3,
   "metadata": {
    "collapsed": true
   },
   "outputs": [],
   "source": [
    "gf_file = \"data/com-lj.ungraph.txt\"\n",
    "gf = snap.LoadEdgeList(snap.PUNGraph, gf_file, 0, 1)"
   ]
  },
  {
   "cell_type": "code",
   "execution_count": 4,
   "metadata": {
    "collapsed": false
   },
   "outputs": [
    {
     "name": "stdout",
     "output_type": "stream",
     "text": [
      "Load graph! With nodes  3997962  and edges  34681189\n"
     ]
    }
   ],
   "source": [
    "print \"Load graph! With nodes \", gf.GetNodes(), \" and edges \", gf.GetEdges()"
   ]
  },
  {
   "cell_type": "code",
   "execution_count": 42,
   "metadata": {
    "collapsed": true
   },
   "outputs": [],
   "source": [
    "##--get graph map\n",
    "def get_graph_info(gf_file):\n",
    "    '''\n",
    "    get graph information as a map\n",
    "    key: user id, value: list of friend id\n",
    "    '''\n",
    "    gf_map = {}\n",
    "    with open(gf_file, 'r') as cf:\n",
    "        for line in cf:\n",
    "            if line[0] != '#':\n",
    "                node_list = line.split('\\t')\n",
    "                if len(node_list) == 2:\n",
    "                    node_list = [int(id) for id in node_list]\n",
    "                    if node_list[0] in gf_map:\n",
    "                        gf_map[node_list[0]].add(node_list[1])\n",
    "                    else:\n",
    "                        gf_map[node_list[0]] = set([node_list[1]])\n",
    "                    if node_list[1] in gf_map:\n",
    "                        gf_map[node_list[1]].add(node_list[0])\n",
    "                    else:\n",
    "                        gf_map[node_list[1]] = set([node_list[0]])                    \n",
    "                else:\n",
    "                    print \"wrong format line: \", line\n",
    "    return gf_map"
   ]
  },
  {
   "cell_type": "code",
   "execution_count": 43,
   "metadata": {
    "collapsed": false
   },
   "outputs": [],
   "source": [
    "gf_map = get_graph_info(gf_file)"
   ]
  },
  {
   "cell_type": "code",
   "execution_count": 44,
   "metadata": {
    "collapsed": false
   },
   "outputs": [
    {
     "data": {
      "text/plain": [
       "3997962"
      ]
     },
     "execution_count": 44,
     "metadata": {},
     "output_type": "execute_result"
    }
   ],
   "source": [
    "len(gf_map)"
   ]
  },
  {
   "cell_type": "code",
   "execution_count": 33,
   "metadata": {
    "collapsed": true
   },
   "outputs": [],
   "source": [
    "def ind_cas_mod_1step(gf, act_nod_list, new_act_nod, prob):\n",
    "    '''\n",
    "    perform 1 step independent cascade model\n",
    "    '''\n",
    "    new_pre_nod = []\n",
    "    for id in new_act_nod:\n",
    "        ni = gf.GetNI(id)\n",
    "        for i in xrange(ni.GetDeg()):\n",
    "            nbr_id = ni.GetNbrNId(i)\n",
    "            if nbr_id not in act_nod_list:\n",
    "                lim = random.random()\n",
    "                if lim < prob:\n",
    "                    new_pre_nod.append(nbr_id)\n",
    "                    act_nod_list.append(nbr_id)\n",
    "    return act_nod_list, new_pre_nod"
   ]
  },
  {
   "cell_type": "code",
   "execution_count": 36,
   "metadata": {
    "collapsed": false
   },
   "outputs": [
    {
     "name": "stdout",
     "output_type": "stream",
     "text": [
      "10 6676.2 21100.4043237\n",
      "100 668.1 6667.66680149\n"
     ]
    },
    {
     "ename": "KeyboardInterrupt",
     "evalue": "",
     "output_type": "error",
     "traceback": [
      "\u001b[1;31m---------------------------------------------------------------------------\u001b[0m",
      "\u001b[1;31mKeyboardInterrupt\u001b[0m                         Traceback (most recent call last)",
      "\u001b[1;32m<ipython-input-36-89d7e4f26cbe>\u001b[0m in \u001b[0;36m<module>\u001b[1;34m()\u001b[0m\n\u001b[0;32m     13\u001b[0m         \u001b[0mact_nod_list\u001b[0m \u001b[1;33m=\u001b[0m \u001b[0mnew_act_nod\u001b[0m\u001b[1;33m[\u001b[0m\u001b[1;33m:\u001b[0m\u001b[1;33m]\u001b[0m\u001b[1;33m\u001b[0m\u001b[0m\n\u001b[0;32m     14\u001b[0m         \u001b[1;32mwhile\u001b[0m \u001b[0mlen\u001b[0m\u001b[1;33m(\u001b[0m\u001b[0mnew_act_nod\u001b[0m\u001b[1;33m)\u001b[0m \u001b[1;33m!=\u001b[0m \u001b[1;36m0\u001b[0m\u001b[1;33m:\u001b[0m\u001b[1;33m\u001b[0m\u001b[0m\n\u001b[1;32m---> 15\u001b[1;33m             \u001b[0mact_nod_list\u001b[0m\u001b[1;33m,\u001b[0m \u001b[0mnew_act_nod\u001b[0m \u001b[1;33m=\u001b[0m \u001b[0mind_cas_mod_1step\u001b[0m\u001b[1;33m(\u001b[0m\u001b[0mgf\u001b[0m\u001b[1;33m,\u001b[0m \u001b[0mact_nod_list\u001b[0m\u001b[1;33m,\u001b[0m \u001b[0mnew_act_nod\u001b[0m\u001b[1;33m,\u001b[0m \u001b[0mprob\u001b[0m\u001b[1;33m)\u001b[0m\u001b[1;33m\u001b[0m\u001b[0m\n\u001b[0m\u001b[0;32m     16\u001b[0m         \u001b[0mtotal_influence\u001b[0m\u001b[1;33m[\u001b[0m\u001b[0mi\u001b[0m\u001b[1;33m]\u001b[0m \u001b[1;33m=\u001b[0m \u001b[0mlen\u001b[0m\u001b[1;33m(\u001b[0m\u001b[0mact_nod_list\u001b[0m\u001b[1;33m)\u001b[0m\u001b[1;33m\u001b[0m\u001b[0m\n\u001b[0;32m     17\u001b[0m     \u001b[0mtotal_influence\u001b[0m \u001b[1;33m=\u001b[0m \u001b[0mpd\u001b[0m\u001b[1;33m.\u001b[0m\u001b[0mDataFrame\u001b[0m\u001b[1;33m(\u001b[0m\u001b[0mtotal_influence\u001b[0m\u001b[1;33m)\u001b[0m\u001b[1;33m\u001b[0m\u001b[0m\n",
      "\u001b[1;32m<ipython-input-33-96131db8c4c5>\u001b[0m in \u001b[0;36mind_cas_mod_1step\u001b[1;34m(gf, act_nod_list, new_act_nod, prob)\u001b[0m\n\u001b[0;32m      8\u001b[0m         \u001b[1;32mfor\u001b[0m \u001b[0mi\u001b[0m \u001b[1;32min\u001b[0m \u001b[0mxrange\u001b[0m\u001b[1;33m(\u001b[0m\u001b[0mni\u001b[0m\u001b[1;33m.\u001b[0m\u001b[0mGetDeg\u001b[0m\u001b[1;33m(\u001b[0m\u001b[1;33m)\u001b[0m\u001b[1;33m)\u001b[0m\u001b[1;33m:\u001b[0m\u001b[1;33m\u001b[0m\u001b[0m\n\u001b[0;32m      9\u001b[0m             \u001b[0mnbr_id\u001b[0m \u001b[1;33m=\u001b[0m \u001b[0mni\u001b[0m\u001b[1;33m.\u001b[0m\u001b[0mGetNbrNId\u001b[0m\u001b[1;33m(\u001b[0m\u001b[0mi\u001b[0m\u001b[1;33m)\u001b[0m\u001b[1;33m\u001b[0m\u001b[0m\n\u001b[1;32m---> 10\u001b[1;33m             \u001b[1;32mif\u001b[0m \u001b[0mnbr_id\u001b[0m \u001b[1;32mnot\u001b[0m \u001b[1;32min\u001b[0m \u001b[0mact_nod_list\u001b[0m\u001b[1;33m:\u001b[0m\u001b[1;33m\u001b[0m\u001b[0m\n\u001b[0m\u001b[0;32m     11\u001b[0m                 \u001b[0mlim\u001b[0m \u001b[1;33m=\u001b[0m \u001b[0mrandom\u001b[0m\u001b[1;33m.\u001b[0m\u001b[0mrandom\u001b[0m\u001b[1;33m(\u001b[0m\u001b[1;33m)\u001b[0m\u001b[1;33m\u001b[0m\u001b[0m\n\u001b[0;32m     12\u001b[0m                 \u001b[1;32mif\u001b[0m \u001b[0mlim\u001b[0m \u001b[1;33m<\u001b[0m \u001b[0mprob\u001b[0m\u001b[1;33m:\u001b[0m\u001b[1;33m\u001b[0m\u001b[0m\n",
      "\u001b[1;31mKeyboardInterrupt\u001b[0m: "
     ]
    }
   ],
   "source": [
    "##--get run the model with random initial\n",
    "prob = 0.01\n",
    "mean_list = {}\n",
    "std_list = {}\n",
    "\n",
    "for total_iter in [10, 100, 1000, 10000, 100000, 1000000]:\n",
    "    total_influence = [0] * total_iter\n",
    "    for i in xrange(total_iter):\n",
    "        init_set = 1\n",
    "        new_act_nod = []\n",
    "        for j in xrange(init_set):\n",
    "            new_act_nod.append(gf.GetRndNId())\n",
    "        act_nod_list = new_act_nod[:]\n",
    "        while len(new_act_nod) != 0:\n",
    "            act_nod_list, new_act_nod = ind_cas_mod_1step(gf, act_nod_list, new_act_nod, prob)\n",
    "        total_influence[i] = len(act_nod_list)\n",
    "    total_influence = pd.DataFrame(total_influence)\n",
    "    mean_list[total_iter] = total_influence.mean()[0]\n",
    "    std_list[total_iter] = total_influence.std()[0]\n",
    "    print total_iter, mean_list[total_iter], std_list[total_iter]"
   ]
  },
  {
   "cell_type": "code",
   "execution_count": 45,
   "metadata": {
    "collapsed": false
   },
   "outputs": [],
   "source": [
    "def ind_cas_mod_1step_v2(gf_map, act_nod_list, new_act_nod, prob):\n",
    "    '''\n",
    "    perform 1 step independent cascade model\n",
    "    '''\n",
    "    new_pre_nod = set()\n",
    "    for id in new_act_nod:\n",
    "        for nbr_id in gf_map[id]:\n",
    "            if nbr_id not in act_nod_list:\n",
    "                lim = random.random()\n",
    "                if lim < prob:\n",
    "                    new_pre_nod.add(nbr_id)\n",
    "                    act_nod_list.add(nbr_id)\n",
    "    return act_nod_list, new_pre_nod"
   ]
  },
  {
   "cell_type": "code",
   "execution_count": null,
   "metadata": {
    "collapsed": false
   },
   "outputs": [
    {
     "name": "stdout",
     "output_type": "stream",
     "text": [
      "10 0 2 1 0\n",
      "10 1 2 1 0\n",
      "10 2 2 1 0\n",
      "10 3 2 1 0\n",
      "10 4 2 1 0\n",
      "10 5 2 1 0\n",
      "10 6 2 1 0\n",
      "10 7 2 1 0\n",
      "10 8 2 1 0\n",
      "10 9 2 1 0\n",
      "10 1.0 0.0\n",
      "100 0 2 1 0\n",
      "100 10 2 2 1\n",
      "100 10 2 2 0\n",
      "100 20 2 2 1\n",
      "100 20 2 3 1\n",
      "100 20 2 3 0\n",
      "100 30 2 1 0\n",
      "100 40 2 1 0\n",
      "100 50 2 1 0\n",
      "100 60 2 1 0\n",
      "100 70 2 1 0\n",
      "100 80 2 1 0\n",
      "100 90 2 3 2\n",
      "100 90 2 4 1\n",
      "100 90 2 4 0\n",
      "100 673.41 6715.41506211\n",
      "1000 0 2 1 0\n",
      "1000 100 2 1 0\n",
      "1000 200 2 1 0\n",
      "1000 300 2 1 0\n",
      "1000 400 2 1 0\n",
      "1000 500 2 1 0\n",
      "1000 600 2 1 0\n",
      "1000 700 2 1 0\n",
      "1000 800 2 1 0\n",
      "1000 900 2 1 0\n",
      "1000 1336.065 9350.91794484\n",
      "10000 0 2 1 0\n",
      "10000 1000 2 1 0\n",
      "10000 2000 2 1 0\n",
      "10000 3000 2 1 0\n"
     ]
    }
   ],
   "source": [
    "##--get run the model with random initial\n",
    "prob = 0.01\n",
    "mean_list = {}\n",
    "std_list = {}\n",
    "\n",
    "for total_iter in [10, 100, 1000, 10000, 100000, 1000000]:\n",
    "    total_influence = [0] * total_iter\n",
    "    for i in xrange(total_iter):\n",
    "        init_set = 1\n",
    "        new_act_nod = set()\n",
    "        for j in xrange(init_set):\n",
    "            new_act_nod.add(gf.GetRndNId())\n",
    "        act_nod_list = new_act_nod.copy()\n",
    "        while len(new_act_nod) != 0:\n",
    "            act_nod_list, new_act_nod = ind_cas_mod_1step_v2(gf_map, act_nod_list, new_act_nod, prob)\n",
    "            if i % (total_iter / 10) == 0:\n",
    "                print total_iter, i, count, len(act_nod_list), len(new_act_nod)\n",
    "        total_influence[i] = len(act_nod_list)\n",
    "    total_influence = pd.DataFrame(total_influence)\n",
    "    mean_list[total_iter] = total_influence.mean()[0]\n",
    "    std_list[total_iter] = total_influence.std()[0]\n",
    "    print total_iter, mean_list[total_iter], std_list[total_iter]"
   ]
  },
  {
   "cell_type": "code",
   "execution_count": 28,
   "metadata": {
    "collapsed": false
   },
   "outputs": [
    {
     "data": {
      "text/plain": [
       "1.2"
      ]
     },
     "execution_count": 28,
     "metadata": {},
     "output_type": "execute_result"
    }
   ],
   "source": [
    "total_influence.mean()[0]"
   ]
  },
  {
   "cell_type": "code",
   "execution_count": null,
   "metadata": {
    "collapsed": true
   },
   "outputs": [],
   "source": []
  }
 ],
 "metadata": {
  "kernelspec": {
   "display_name": "Python [Root]",
   "language": "python",
   "name": "Python [Root]"
  },
  "language_info": {
   "codemirror_mode": {
    "name": "ipython",
    "version": 2
   },
   "file_extension": ".py",
   "mimetype": "text/x-python",
   "name": "python",
   "nbconvert_exporter": "python",
   "pygments_lexer": "ipython2",
   "version": "2.7.12"
  }
 },
 "nbformat": 4,
 "nbformat_minor": 0
}
