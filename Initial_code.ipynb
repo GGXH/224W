{
 "cells": [
  {
   "cell_type": "code",
   "execution_count": 15,
   "metadata": {
    "collapsed": true
   },
   "outputs": [],
   "source": [
    "import matplotlib\n",
    "import matplotlib.pyplot as plt\n",
    "import numpy as np\n",
    "from scipy import stats\n",
    "import snap\n",
    "%matplotlib inline"
   ]
  },
  {
   "cell_type": "code",
   "execution_count": 2,
   "metadata": {
    "collapsed": true
   },
   "outputs": [],
   "source": [
    "def get_comm_info(comm_file):\n",
    "    '''\n",
    "    get community information, two maps\n",
    "    map1: key: user id, value: community id array\n",
    "    map2: key: community id, value: user id array\n",
    "    '''\n",
    "    comm_map_usr = {}\n",
    "    comm_map_comm = {}\n",
    "    comm_id = 0\n",
    "    with open(comm_file, 'r') as cf:\n",
    "        for line in cf:\n",
    "            node_list = line.split('\\t')\n",
    "            node_list = [int(id) for id in node_list]\n",
    "            for id in node_list:\n",
    "                if id in comm_map_usr:\n",
    "                    comm_map_usr[id].append(comm_id)\n",
    "                else:\n",
    "                    comm_map_usr[id] = [comm_id]\n",
    "            comm_map_comm[comm_id] = node_list[:]\n",
    "            comm_id += 1\n",
    "    return comm_map_usr, comm_map_comm"
   ]
  },
  {
   "cell_type": "code",
   "execution_count": 3,
   "metadata": {
    "collapsed": true
   },
   "outputs": [],
   "source": [
    "gf_file = \"data/com-lj.ungraph.txt\"\n",
    "gf = snap.LoadEdgeList(snap.PUNGraph, gf_file, 0, 1)"
   ]
  },
  {
   "cell_type": "code",
   "execution_count": 4,
   "metadata": {
    "collapsed": false
   },
   "outputs": [
    {
     "name": "stdout",
     "output_type": "stream",
     "text": [
      "Load graph! With nodes  3997962  and edges  34681189\n"
     ]
    }
   ],
   "source": [
    "print \"Load graph! With nodes \", gf.GetNodes(), \" and edges \", gf.GetEdges()"
   ]
  },
  {
   "cell_type": "code",
   "execution_count": 16,
   "metadata": {
    "collapsed": true
   },
   "outputs": [],
   "source": [
    "degcnt = snap.TIntPrV()\n",
    "snap.GetDegCnt(gf, degcnt)\n",
    "deg_list = []\n",
    "deg_cnt_list = []\n",
    "total_deg = 0.\n",
    "for item in degcnt:\n",
    "    deg_list.append(item.GetVal1())\n",
    "    deg_cnt_list.append(item.GetVal2())\n",
    "    total_deg += item.GetVal2()\n",
    "for i in xrange(len(deg_cnt_list)):\n",
    "    deg_cnt_list[i] /= total_deg\n",
    "    \n",
    "deg_list = np.array(deg_list)\n",
    "deg_cnt_list = np.array(deg_cnt_list)"
   ]
  },
  {
   "cell_type": "code",
   "execution_count": 22,
   "metadata": {
    "collapsed": false
   },
   "outputs": [
    {
     "name": "stdout",
     "output_type": "stream",
     "text": [
      "-0.997131486255 -1.51656625202 -0.998284458996 1.21470767702e-23 0.0137845017917\n"
     ]
    }
   ],
   "source": [
    "deg_list_log = np.log(deg_list)\n",
    "deg_cnt_list_log = np.log(deg_cnt_list)\n",
    "\n",
    "slope, intercept, r_value, p_value, std_err = stats.linregress( deg_list_log[:20], deg_cnt_list_log[:20])\n",
    "print slope, intercept, r_value, p_value, std_err"
   ]
  },
  {
   "cell_type": "code",
   "execution_count": 49,
   "metadata": {
    "collapsed": false
   },
   "outputs": [
    {
     "name": "stdout",
     "output_type": "stream",
     "text": [
      "-2.94901422139 5.94642638659 -0.984276359107 0.0 0.020031327841\n"
     ]
    }
   ],
   "source": [
    "deg_list_log = np.log(deg_list)\n",
    "deg_cnt_list_log = np.log(deg_cnt_list)\n",
    "\n",
    "slope, intercept, r_value, p_value, std_err = stats.linregress( deg_list_log[100:800], deg_cnt_list_log[100:800])\n",
    "print slope, intercept, r_value, p_value, std_err"
   ]
  },
  {
   "cell_type": "code",
   "execution_count": 52,
   "metadata": {
    "collapsed": true
   },
   "outputs": [],
   "source": [
    "degree_y_1 = np.exp(-1. * deg_list_log)\n",
    "degree_y_2 = np.exp(-3. * deg_list_log) * 10000"
   ]
  },
  {
   "cell_type": "code",
   "execution_count": 56,
   "metadata": {
    "collapsed": false
   },
   "outputs": [
    {
     "data": {
      "image/png": "[encoded data removed]",
      "text/plain": [
       "<matplotlib.figure.Figure at 0x7fb8ecfa3290>"
      ]
     },
     "metadata": {},
     "output_type": "display_data"
    }
   ],
   "source": [
    "f1, = plt.loglog(deg_list, deg_cnt_list)\n",
    "f2, = plt.loglog(deg_list[1:20], degree_y_1[1:20])\n",
    "f3, = plt.loglog(deg_list[100:500], degree_y_2[100:500])\n",
    "plt.xlabel(\"Degree No.\")\n",
    "plt.ylabel(\"Probability of degree\")\n",
    "f1.set_label(\"Probability of degree\")\n",
    "f2.set_label(\"-1-slope\")\n",
    "f3.set_label(\"-3-slope\")\n",
    "plt.legend()\n",
    "plt.show()"
   ]
  },
  {
   "cell_type": "code",
   "execution_count": null,
   "metadata": {
    "collapsed": true
   },
   "outputs": [],
   "source": []
  }
 ],
 "metadata": {
  "kernelspec": {
   "display_name": "Python [Root]",
   "language": "python",
   "name": "Python [Root]"
  },
  "language_info": {
   "codemirror_mode": {
    "name": "ipython",
    "version": 2
   },
   "file_extension": ".py",
   "mimetype": "text/x-python",
   "name": "python",
   "nbconvert_exporter": "python",
   "pygments_lexer": "ipython2",
   "version": "2.7.12"
  }
 },
 "nbformat": 4,
 "nbformat_minor": 0
}
