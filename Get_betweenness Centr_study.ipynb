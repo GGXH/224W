{
 "cells": [
  {
   "cell_type": "code",
   "execution_count": 1,
   "metadata": {
    "collapsed": true
   },
   "outputs": [],
   "source": [
    "import pickle\n",
    "import snap"
   ]
  },
  {
   "cell_type": "code",
   "execution_count": 2,
   "metadata": {
    "collapsed": true
   },
   "outputs": [],
   "source": [
    "def get_comm_info(comm_file):\n",
    "    '''\n",
    "    get community information, two maps\n",
    "    map1: key: user id, value: community id array\n",
    "    map2: key: community id, value: user id array\n",
    "    '''\n",
    "    comm_map_usr = {}\n",
    "    comm_map_comm = {}\n",
    "    comm_id = 0\n",
    "    with open(comm_file, 'r') as cf:\n",
    "        for line in cf:\n",
    "            node_list = line.split('\\t')\n",
    "            node_list = [int(id) for id in node_list]\n",
    "            for id in node_list:\n",
    "                if id in comm_map_usr:\n",
    "                    comm_map_usr[id].append(comm_id)\n",
    "                else:\n",
    "                    comm_map_usr[id] = [comm_id]\n",
    "            comm_map_comm[comm_id] = node_list[:]\n",
    "            comm_id += 1\n",
    "    return comm_map_usr, comm_map_comm"
   ]
  },
  {
   "cell_type": "code",
   "execution_count": 3,
   "metadata": {
    "collapsed": true
   },
   "outputs": [],
   "source": [
    "gf_file = \"data/com-lj.ungraph.txt\"\n",
    "gf = snap.LoadEdgeList(snap.PUNGraph, gf_file, 0, 1)"
   ]
  },
  {
   "cell_type": "code",
   "execution_count": null,
   "metadata": {
    "collapsed": false
   },
   "outputs": [
    {
     "name": "stdout",
     "output_type": "stream",
     "text": [
      "Load graph! With nodes  3997962  and edges  34681189\n"
     ]
    }
   ],
   "source": [
    "print \"Load graph! With nodes \", gf.GetNodes(), \" and edges \", gf.GetEdges()"
   ]
  },
  {
   "cell_type": "code",
   "execution_count": null,
   "metadata": {
    "collapsed": true
   },
   "outputs": [],
   "source": [
    "##--Betweenness Centrality\n",
    "ni_btw_c_ary = snap.TIntFltH()\n",
    "edg_btw_c_ary = snap.TIntPrFltH()\n",
    "\n",
    "snap.GetBetweennessCentr(gf, ni_btw_c_ary, edg_btw_c_ary)"
   ]
  },
  {
   "cell_type": "code",
   "execution_count": null,
   "metadata": {
    "collapsed": true
   },
   "outputs": [],
   "source": [
    "ni_btw_c_map = {}\n",
    "for key in ni_btw_c_ary:\n",
    "    ni_btw_c_map[key] = ni_btw_c_ary[key]\n",
    "    \n",
    "edg_btw_c_map = {}\n",
    "for key in edg_btw_c_ary:\n",
    "    key_str = \"_\".join(key)\n",
    "    edg_btw_c_map[key_str] = edg_btw_c_ary[key]"
   ]
  },
  {
   "cell_type": "code",
   "execution_count": null,
   "metadata": {
    "collapsed": true
   },
   "outputs": [],
   "source": [
    "##--dump betweenness centrality\n",
    "btw_centr_file = \"btw_ctr_comm_1st.pkl\"\n",
    "\n",
    "with  open(btw_centr_file, \"wb\") as fl:\n",
    "    pickle.dump(ni_btw_c_map, fl)\n",
    "    pickle.dump(edg_btw_c_map, fl)"
   ]
  },
  {
   "cell_type": "code",
   "execution_count": null,
   "metadata": {
    "collapsed": true
   },
   "outputs": [],
   "source": []
  }
 ],
 "metadata": {
  "kernelspec": {
   "display_name": "Python [Root]",
   "language": "python",
   "name": "Python [Root]"
  },
  "language_info": {
   "codemirror_mode": {
    "name": "ipython",
    "version": 2
   },
   "file_extension": ".py",
   "mimetype": "text/x-python",
   "name": "python",
   "nbconvert_exporter": "python",
   "pygments_lexer": "ipython2",
   "version": "2.7.12"
  }
 },
 "nbformat": 4,
 "nbformat_minor": 0
}
