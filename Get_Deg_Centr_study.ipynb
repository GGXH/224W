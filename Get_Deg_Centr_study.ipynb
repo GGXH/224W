{
 "cells": [
  {
   "cell_type": "code",
   "execution_count": 1,
   "metadata": {
    "collapsed": true
   },
   "outputs": [],
   "source": [
    "import operator\n",
    "import pickle\n",
    "import snap"
   ]
  },
  {
   "cell_type": "code",
   "execution_count": 2,
   "metadata": {
    "collapsed": true
   },
   "outputs": [],
   "source": [
    "def get_comm_info(comm_file):\n",
    "    '''\n",
    "    get community information, two maps\n",
    "    map1: key: user id, value: community id array\n",
    "    map2: key: community id, value: user id array\n",
    "    '''\n",
    "    comm_map_usr = {}\n",
    "    comm_map_comm = {}\n",
    "    comm_id = 0\n",
    "    with open(comm_file, 'r') as cf:\n",
    "        for line in cf:\n",
    "            node_list = line.split('\\t')\n",
    "            node_list = [int(id) for id in node_list]\n",
    "            for id in node_list:\n",
    "                if id in comm_map_usr:\n",
    "                    comm_map_usr[id].append(comm_id)\n",
    "                else:\n",
    "                    comm_map_usr[id] = [comm_id]\n",
    "            comm_map_comm[comm_id] = node_list[:]\n",
    "            comm_id += 1\n",
    "    return comm_map_usr, comm_map_comm"
   ]
  },
  {
   "cell_type": "code",
   "execution_count": 3,
   "metadata": {
    "collapsed": true
   },
   "outputs": [],
   "source": [
    "gf_file = \"data/com-lj.ungraph.txt\"\n",
    "gf = snap.LoadEdgeList(snap.PUNGraph, gf_file, 0, 1)"
   ]
  },
  {
   "cell_type": "code",
   "execution_count": 4,
   "metadata": {
    "collapsed": false
   },
   "outputs": [
    {
     "name": "stdout",
     "output_type": "stream",
     "text": [
      "Load graph! With nodes  3997962  and edges  34681189\n"
     ]
    }
   ],
   "source": [
    "print \"Load graph! With nodes \", gf.GetNodes(), \" and edges \", gf.GetEdges()"
   ]
  },
  {
   "cell_type": "code",
   "execution_count": 5,
   "metadata": {
    "collapsed": true
   },
   "outputs": [],
   "source": [
    "comm_file = 'data/com-lj.all.cmty.txt'\n",
    "\n",
    "comm_map_usr, comm_map_comm = get_comm_info(comm_file)"
   ]
  },
  {
   "cell_type": "code",
   "execution_count": 5,
   "metadata": {
    "collapsed": true
   },
   "outputs": [],
   "source": [
    "##--Degree centrality\n",
    "degr_centr_map = {}\n",
    "\n",
    "for ni in gf.Nodes():\n",
    "    degr_centr_map[ni.GetId()] = snap.GetDegreeCentr(gf, ni.GetId())"
   ]
  },
  {
   "cell_type": "code",
   "execution_count": 6,
   "metadata": {
    "collapsed": false
   },
   "outputs": [],
   "source": [
    "##--dump degree centrality\n",
    "degr_centr_file = \"deg_ctr.pkl\"\n",
    "\n",
    "with  open(degr_centr_file, \"wb\") as fl:\n",
    "    pickle.dump(degr_centr_map, fl)"
   ]
  },
  {
   "cell_type": "code",
   "execution_count": 7,
   "metadata": {
    "collapsed": true
   },
   "outputs": [],
   "source": [
    "##--reload degree centrality\n",
    "degr_centr_file = \"deg_ctr.pkl\"\n",
    "\n",
    "with  open(degr_centr_file, \"r\") as fl:\n",
    "    degr_centr_map = pickle.load(fl)"
   ]
  },
  {
   "cell_type": "code",
   "execution_count": 16,
   "metadata": {
    "collapsed": false
   },
   "outputs": [],
   "source": [
    "##--sorted degree centrality\n",
    "sorted_dgc = sorted(degr_centr_map.items(), key = operator.itemgetter(1), reverse=True)\n",
    "\n",
    "sorted_id = [ item[0] for item in sorted_dgc ]"
   ]
  },
  {
   "cell_type": "code",
   "execution_count": 19,
   "metadata": {
    "collapsed": false
   },
   "outputs": [],
   "source": [
    "in_comm = []\n",
    "for id in sorted_id:\n",
    "    if id in comm_map_usr:\n",
    "        in_comm.append(1)\n",
    "    else:\n",
    "        in_comm.append(0)"
   ]
  },
  {
   "cell_type": "code",
   "execution_count": 20,
   "metadata": {
    "collapsed": false
   },
   "outputs": [
    {
     "name": "stdout",
     "output_type": "stream",
     "text": [
      "[9766, 9765, 54974, 6395, 11509, 52171, 53198, 56256, 52022, 57045, 13664, 42463, 53252, 4435, 7832, 2806, 6691, 52977, 53947, 55514, 6693, 52984, 52062, 33625, 23205, 53767, 58926, 50516, 5442, 6698, 53777, 9783, 55776, 53232, 52154, 6697, 52153, 170786, 54465, 12370, 52669, 6396, 53251, 146797, 63840, 208336, 58764, 54480, 10428, 52220, 6398, 4492, 7486, 13294, 78458, 6707, 2883, 52206, 9772, 54484, 77918, 2890632, 864248, 6732, 9779, 53220, 9261, 53959, 4128, 6431, 1656406, 1554534, 155706, 3389, 470862, 55732, 77451, 447075, 75598, 1489387, 3900700, 12368, 53236, 170465, 817235, 3269998, 12369, 52205, 6728, 2791103, 54190, 2181652, 53349, 6744, 57303, 53279, 1071911, 57449, 48478, 38254]\n",
      "[0, 1, 1, 1, 0, 1, 0, 1, 1, 0, 1, 1, 1, 0, 0, 1, 1, 1, 1, 1, 1, 1, 1, 1, 0, 1, 0, 0, 1, 1, 1, 1, 1, 1, 1, 1, 1, 1, 1, 0, 1, 1, 1, 1, 1, 1, 1, 1, 1, 1, 1, 1, 1, 1, 1, 1, 1, 1, 1, 1, 1, 0, 0, 1, 1, 1, 0, 1, 0, 0, 0, 0, 0, 1, 0, 1, 1, 0, 1, 0, 0, 1, 1, 0, 0, 0, 0, 1, 1, 0, 1, 0, 1, 1, 1, 1, 1, 1, 1, 0]\n"
     ]
    }
   ],
   "source": [
    "print sorted_id[:100]\n",
    "print in_comm[:100]"
   ]
  },
  {
   "cell_type": "code",
   "execution_count": 8,
   "metadata": {
    "collapsed": true
   },
   "outputs": [],
   "source": [
    "##--get community size\n",
    "comm_size = {}\n",
    "\n",
    "for id in comm_map_comm:\n",
    "    comm_size[id] = len(comm_map_comm[id])\n",
    "    \n",
    "##--sorted community by its size\n",
    "sorted_comm_size = sorted(comm_size.items(), key = operator.itemgetter(1), reverse=True)\n",
    "\n",
    "sorted_id_comm_size = [ item[0] for item in sorted_comm_size ]"
   ]
  },
  {
   "cell_type": "code",
   "execution_count": 26,
   "metadata": {
    "collapsed": false
   },
   "outputs": [
    {
     "name": "stdout",
     "output_type": "stream",
     "text": [
      "[664006, 663287, 662541, 661354, 661646, 659019, 660448, 659444, 658401, 658204, 656578, 656690, 656062, 655618, 656293, 657769, 653762, 655297, 652794, 655187, 652773, 654692, 656993, 655724, 650822, 653769, 650830, 649876, 651333, 650282, 655378, 654480, 648906, 649277, 653852, 652810, 654792, 647361, 649472, 646601, 650692, 646614, 651867, 654102, 646467, 646457, 647536, 650839, 649199, 646443, 651075, 650517, 645207, 646633, 644803, 648913, 643217, 650292, 645070, 647231, 646669, 649549, 645193, 644280, 646805, 644289, 646919, 647921, 643516, 646745, 651391, 649020, 648031, 645395, 646141, 647076, 641906, 644238, 649321, 649884, 647371, 641437, 641679, 640634, 638559, 645436, 643522, 638781, 644419, 636069, 646476, 636074, 641446, 642258, 637719, 645993, 638888, 642763, 636050, 641642]\n"
     ]
    }
   ],
   "source": [
    "print sorted_id_comm_size[:100]"
   ]
  },
  {
   "cell_type": "code",
   "execution_count": 28,
   "metadata": {
    "collapsed": false
   },
   "outputs": [],
   "source": [
    "##--we see a single community as a graph\n",
    "def get_single_comm(gf, comm_map_comm, c_id):\n",
    "    '''\n",
    "    return a graph from a community in a graph\n",
    "    '''\n",
    "    node_id_list = comm_map_comm[c_id]\n",
    "    gf_comm = snap.TUNGraph.New()\n",
    "    for id in node_id_list:\n",
    "        gf_comm.AddNode(id)\n",
    "    for id in node_id_list:\n",
    "        ni = gf.GetNI(id)\n",
    "        deg = ni.GetDeg()\n",
    "        for nbr_i in xrange(deg):\n",
    "            nbr_id = ni.GetNbrNId(nbr_i)\n",
    "            if nbr_id in node_id_list:\n",
    "                gf_comm.AddEdge(id, nbr_id)\n",
    "    return gf_comm"
   ]
  },
  {
   "cell_type": "code",
   "execution_count": 37,
   "metadata": {
    "collapsed": false
   },
   "outputs": [],
   "source": [
    "##--find the node with highest degree centrality in each community, if we see each single community as a graph\n",
    "comm_high_deg_cnt = {}\n",
    "for i in xrange(len(sorted_id_comm_size)):\n",
    "    comm_gf = get_single_comm(gf, comm_map_comm, sorted_id_comm_size[i])\n",
    "    deg_map = {}\n",
    "    for ni in comm_gf.Nodes():\n",
    "        deg_map[ni.GetId()] = snap.GetDegreeCentr(comm_gf, ni.GetId())\n",
    "    tmp_sorted_deg = sorted(deg_map.items(), key = operator.itemgetter(1), reverse=True)\n",
    "    tmp_sorted_id_deg = [ item[0] for item in tmp_sorted_deg ]\n",
    "    comm_high_deg_cnt[sorted_id_comm_size[i]] = tmp_sorted_id_deg"
   ]
  },
  {
   "cell_type": "code",
   "execution_count": 38,
   "metadata": {
    "collapsed": false
   },
   "outputs": [],
   "source": [
    "##--dump degree centrality\n",
    "degr_centr_file = \"deg_ctr_comm_only.pkl\"\n",
    "\n",
    "with  open(degr_centr_file, \"wb\") as fl:\n",
    "    pickle.dump(comm_high_deg_cnt, fl)"
   ]
  },
  {
   "cell_type": "code",
   "execution_count": 6,
   "metadata": {
    "collapsed": true
   },
   "outputs": [],
   "source": [
    "##--we see a single community and its immediate friend as a graph\n",
    "def get_single_comm1st(gf, comm_map_comm, c_id):\n",
    "    '''\n",
    "    return a graph from a community in a graph\n",
    "    '''\n",
    "    node_id_list = comm_map_comm[c_id]\n",
    "    gf_comm = snap.TUNGraph.New()\n",
    "    for id in node_id_list:\n",
    "        gf_comm.AddNode(id)\n",
    "    for id in node_id_list:\n",
    "        ni = gf.GetNI(id)\n",
    "        deg = ni.GetDeg()\n",
    "        for nbr_i in xrange(deg):\n",
    "            nbr_id = ni.GetNbrNId(nbr_i)\n",
    "            if not gf_comm.IsNode(nbr_id):\n",
    "                gf_comm.AddNode(nbr_id)\n",
    "            gf_comm.AddEdge(id, nbr_id)\n",
    "    return gf_comm"
   ]
  },
  {
   "cell_type": "code",
   "execution_count": 9,
   "metadata": {
    "collapsed": false
   },
   "outputs": [],
   "source": [
    "comm_high_deg_cnt_1st = {}\n",
    "for i in xrange(len(sorted_id_comm_size)):\n",
    "    comm_gf = get_single_comm1st(gf, comm_map_comm, sorted_id_comm_size[i])\n",
    "    deg_map = {}\n",
    "    for ni in comm_gf.Nodes():\n",
    "        deg_map[ni.GetId()] = snap.GetDegreeCentr(comm_gf, ni.GetId())\n",
    "    tmp_sorted_deg = sorted(deg_map.items(), key = operator.itemgetter(1), reverse=True)\n",
    "    tmp_sorted_id_deg = [ item[0] for item in tmp_sorted_deg ]\n",
    "    comm_high_deg_cnt_1st[sorted_id_comm_size[i]] = tmp_sorted_id_deg"
   ]
  },
  {
   "cell_type": "code",
   "execution_count": 10,
   "metadata": {
    "collapsed": true
   },
   "outputs": [],
   "source": [
    "##--dump degree centrality\n",
    "degr_centr_file = \"deg_ctr_comm_1st.pkl\"\n",
    "\n",
    "with  open(degr_centr_file, \"wb\") as fl:\n",
    "    pickle.dump(comm_high_deg_cnt_1st, fl)"
   ]
  },
  {
   "cell_type": "code",
   "execution_count": null,
   "metadata": {
    "collapsed": true
   },
   "outputs": [],
   "source": []
  }
 ],
 "metadata": {
  "kernelspec": {
   "display_name": "Python [Root]",
   "language": "python",
   "name": "Python [Root]"
  },
  "language_info": {
   "codemirror_mode": {
    "name": "ipython",
    "version": 2
   },
   "file_extension": ".py",
   "mimetype": "text/x-python",
   "name": "python",
   "nbconvert_exporter": "python",
   "pygments_lexer": "ipython2",
   "version": "2.7.12"
  }
 },
 "nbformat": 4,
 "nbformat_minor": 0
}
