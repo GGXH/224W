{
 "cells": [
  {
   "cell_type": "code",
   "execution_count": 1,
   "metadata": {
    "collapsed": true
   },
   "outputs": [],
   "source": [
    "import pickle\n",
    "import snap"
   ]
  },
  {
   "cell_type": "code",
   "execution_count": 2,
   "metadata": {
    "collapsed": true
   },
   "outputs": [],
   "source": [
    "def get_comm_info(comm_file):\n",
    "    '''\n",
    "    get community information, two maps\n",
    "    map1: key: user id, value: community id array\n",
    "    map2: key: community id, value: user id array\n",
    "    '''\n",
    "    comm_map_usr = {}\n",
    "    comm_map_comm = {}\n",
    "    comm_id = 0\n",
    "    with open(comm_file, 'r') as cf:\n",
    "        for line in cf:\n",
    "            node_list = line.split('\\t')\n",
    "            node_list = [int(id) for id in node_list]\n",
    "            for id in node_list:\n",
    "                if id in comm_map_usr:\n",
    "                    comm_map_usr[id].append(comm_id)\n",
    "                else:\n",
    "                    comm_map_usr[id] = [comm_id]\n",
    "            comm_map_comm[comm_id] = node_list[:]\n",
    "            comm_id += 1\n",
    "    return comm_map_usr, comm_map_comm"
   ]
  },
  {
   "cell_type": "code",
   "execution_count": 3,
   "metadata": {
    "collapsed": true
   },
   "outputs": [],
   "source": [
    "gf_file = \"data/com-lj.ungraph.txt\"\n",
    "gf = snap.LoadEdgeList(snap.PUNGraph, gf_file, 0, 1)"
   ]
  },
  {
   "cell_type": "code",
   "execution_count": 4,
   "metadata": {
    "collapsed": false
   },
   "outputs": [
    {
     "name": "stdout",
     "output_type": "stream",
     "text": [
      "Load graph! With nodes  3997962  and edges  34681189\n"
     ]
    }
   ],
   "source": [
    "print \"Load graph! With nodes \", gf.GetNodes(), \" and edges \", gf.GetEdges()"
   ]
  },
  {
   "cell_type": "code",
   "execution_count": 5,
   "metadata": {
    "collapsed": false
   },
   "outputs": [
    {
     "ename": "KeyboardInterrupt",
     "evalue": "",
     "output_type": "error",
     "traceback": [
      "\u001b[1;31m---------------------------------------------------------------------------\u001b[0m",
      "\u001b[1;31mKeyboardInterrupt\u001b[0m                         Traceback (most recent call last)",
      "\u001b[1;32m<ipython-input-5-b6710916117b>\u001b[0m in \u001b[0;36m<module>\u001b[1;34m()\u001b[0m\n\u001b[0;32m      3\u001b[0m \u001b[1;33m\u001b[0m\u001b[0m\n\u001b[0;32m      4\u001b[0m \u001b[1;32mfor\u001b[0m \u001b[0mni\u001b[0m \u001b[1;32min\u001b[0m \u001b[0mgf\u001b[0m\u001b[1;33m.\u001b[0m\u001b[0mNodes\u001b[0m\u001b[1;33m(\u001b[0m\u001b[1;33m)\u001b[0m\u001b[1;33m:\u001b[0m\u001b[1;33m\u001b[0m\u001b[0m\n\u001b[1;32m----> 5\u001b[1;33m     \u001b[0mcl_centr_map\u001b[0m\u001b[1;33m[\u001b[0m\u001b[0mni\u001b[0m\u001b[1;33m.\u001b[0m\u001b[0mGetId\u001b[0m\u001b[1;33m(\u001b[0m\u001b[1;33m)\u001b[0m\u001b[1;33m]\u001b[0m \u001b[1;33m=\u001b[0m \u001b[0msnap\u001b[0m\u001b[1;33m.\u001b[0m\u001b[0mGetClosenessCentr\u001b[0m\u001b[1;33m(\u001b[0m\u001b[0mgf\u001b[0m\u001b[1;33m,\u001b[0m \u001b[0mni\u001b[0m\u001b[1;33m.\u001b[0m\u001b[0mGetId\u001b[0m\u001b[1;33m(\u001b[0m\u001b[1;33m)\u001b[0m\u001b[1;33m)\u001b[0m\u001b[1;33m\u001b[0m\u001b[0m\n\u001b[0m",
      "\u001b[1;32m/home/ggxh/DS/stanford/cs224w/project/working_space/snap.pyc\u001b[0m in \u001b[0;36mGetClosenessCentr\u001b[1;34m(tspec, *args)\u001b[0m\n\u001b[0;32m 277176\u001b[0m     \u001b[1;32mraise\u001b[0m \u001b[0mTypeError\u001b[0m\u001b[1;33m(\u001b[0m\u001b[1;34m'First argument has invalid type'\u001b[0m\u001b[1;33m)\u001b[0m\u001b[1;33m\u001b[0m\u001b[0m\n\u001b[0;32m 277177\u001b[0m \u001b[1;32mdef\u001b[0m \u001b[0mGetClosenessCentr\u001b[0m\u001b[1;33m(\u001b[0m\u001b[0mtspec\u001b[0m\u001b[1;33m,\u001b[0m \u001b[1;33m*\u001b[0m\u001b[0margs\u001b[0m\u001b[1;33m)\u001b[0m\u001b[1;33m:\u001b[0m\u001b[1;33m\u001b[0m\u001b[0m\n\u001b[1;32m>277178\u001b[1;33m     \u001b[1;32mif\u001b[0m \u001b[0mtype\u001b[0m\u001b[1;33m(\u001b[0m\u001b[0mtspec\u001b[0m\u001b[1;33m)\u001b[0m \u001b[1;33m==\u001b[0m \u001b[0mPUNGraph\u001b[0m\u001b[1;33m:\u001b[0m \u001b[1;32mreturn\u001b[0m \u001b[0mGetClosenessCentr_PUNGraph\u001b[0m\u001b[1;33m(\u001b[0m\u001b[0mtspec\u001b[0m\u001b[1;33m,\u001b[0m \u001b[1;33m*\u001b[0m\u001b[0margs\u001b[0m\u001b[1;33m)\u001b[0m\u001b[1;33m\u001b[0m\u001b[0m\n\u001b[0m\u001b[0;32m 277179\u001b[0m     \u001b[1;32mif\u001b[0m \u001b[0mtype\u001b[0m\u001b[1;33m(\u001b[0m\u001b[0mtspec\u001b[0m\u001b[1;33m)\u001b[0m \u001b[1;33m==\u001b[0m \u001b[0mPUndirNet\u001b[0m\u001b[1;33m:\u001b[0m \u001b[1;32mreturn\u001b[0m \u001b[0mGetClosenessCentr_PUndirNet\u001b[0m\u001b[1;33m(\u001b[0m\u001b[0mtspec\u001b[0m\u001b[1;33m,\u001b[0m \u001b[1;33m*\u001b[0m\u001b[0margs\u001b[0m\u001b[1;33m)\u001b[0m\u001b[1;33m\u001b[0m\u001b[0m\n\u001b[0;32m 277180\u001b[0m     \u001b[1;32mif\u001b[0m \u001b[0mtype\u001b[0m\u001b[1;33m(\u001b[0m\u001b[0mtspec\u001b[0m\u001b[1;33m)\u001b[0m \u001b[1;33m==\u001b[0m \u001b[0mPDirNet\u001b[0m\u001b[1;33m:\u001b[0m \u001b[1;32mreturn\u001b[0m \u001b[0mGetClosenessCentr_PDirNet\u001b[0m\u001b[1;33m(\u001b[0m\u001b[0mtspec\u001b[0m\u001b[1;33m,\u001b[0m \u001b[1;33m*\u001b[0m\u001b[0margs\u001b[0m\u001b[1;33m)\u001b[0m\u001b[1;33m\u001b[0m\u001b[0m\n",
      "\u001b[1;32m/home/ggxh/DS/stanford/cs224w/project/working_space/snap.pyc\u001b[0m in \u001b[0;36mGetClosenessCentr_PUNGraph\u001b[1;34m(*args)\u001b[0m\n\u001b[0;32m 263369\u001b[0m \u001b[1;33m\u001b[0m\u001b[0m\n\u001b[0;32m 263370\u001b[0m     \"\"\"\n\u001b[1;32m>263371\u001b[1;33m   \u001b[1;32mreturn\u001b[0m \u001b[0m_snap\u001b[0m\u001b[1;33m.\u001b[0m\u001b[0mGetClosenessCentr_PUNGraph\u001b[0m\u001b[1;33m(\u001b[0m\u001b[1;33m*\u001b[0m\u001b[0margs\u001b[0m\u001b[1;33m)\u001b[0m\u001b[1;33m\u001b[0m\u001b[0m\n\u001b[0m\u001b[0;32m 263372\u001b[0m \u001b[1;33m\u001b[0m\u001b[0m\n\u001b[0;32m 263373\u001b[0m \u001b[1;32mdef\u001b[0m \u001b[0mGetFarnessCentr_PUNGraph\u001b[0m\u001b[1;33m(\u001b[0m\u001b[1;33m*\u001b[0m\u001b[0margs\u001b[0m\u001b[1;33m)\u001b[0m\u001b[1;33m:\u001b[0m\u001b[1;33m\u001b[0m\u001b[0m\n",
      "\u001b[1;31mKeyboardInterrupt\u001b[0m: "
     ]
    }
   ],
   "source": [
    "##--Get closeness centrality\n",
    "cl_centr_map = {}\n",
    "\n",
    "for ni in gf.Nodes():\n",
    "    cl_centr_map[ni.GetId()] = snap.GetClosenessCentr(gf, ni.GetId())"
   ]
  },
  {
   "cell_type": "code",
   "execution_count": null,
   "metadata": {
    "collapsed": true
   },
   "outputs": [],
   "source": [
    "cl_centr_file = \"cl_ctr.pkl\"\n",
    "\n",
    "with  open(cl_centr_file, \"wb\") as fl:\n",
    "    pickle.dump(cl_centr_map, fl)"
   ]
  },
  {
   "cell_type": "code",
   "execution_count": null,
   "metadata": {
    "collapsed": true
   },
   "outputs": [],
   "source": []
  }
 ],
 "metadata": {
  "kernelspec": {
   "display_name": "Python [Root]",
   "language": "python",
   "name": "Python [Root]"
  },
  "language_info": {
   "codemirror_mode": {
    "name": "ipython",
    "version": 2
   },
   "file_extension": ".py",
   "mimetype": "text/x-python",
   "name": "python",
   "nbconvert_exporter": "python",
   "pygments_lexer": "ipython2",
   "version": "2.7.12"
  }
 },
 "nbformat": 4,
 "nbformat_minor": 0
}
