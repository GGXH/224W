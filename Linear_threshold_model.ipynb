{
 "cells": [
  {
   "cell_type": "code",
   "execution_count": 1,
   "metadata": {
    "collapsed": true
   },
   "outputs": [],
   "source": [
    "import operator\n",
    "import pandas as pd\n",
    "import pickle\n",
    "import random\n",
    "import snap"
   ]
  },
  {
   "cell_type": "code",
   "execution_count": 2,
   "metadata": {
    "collapsed": true
   },
   "outputs": [],
   "source": [
    "def get_comm_info(comm_file):\n",
    "    '''\n",
    "    get community information, two maps\n",
    "    map1: key: user id, value: community id array\n",
    "    map2: key: community id, value: user id array\n",
    "    '''\n",
    "    comm_map_usr = {}\n",
    "    comm_map_comm = {}\n",
    "    comm_id = 0\n",
    "    with open(comm_file, 'r') as cf:\n",
    "        for line in cf:\n",
    "            node_list = line.split('\\t')\n",
    "            node_list = [int(id) for id in node_list]\n",
    "            for id in node_list:\n",
    "                if id in comm_map_usr:\n",
    "                    comm_map_usr[id].append(comm_id)\n",
    "                else:\n",
    "                    comm_map_usr[id] = [comm_id]\n",
    "            comm_map_comm[comm_id] = node_list[:]\n",
    "            comm_id += 1\n",
    "    return comm_map_usr, comm_map_comm"
   ]
  },
  {
   "cell_type": "code",
   "execution_count": 3,
   "metadata": {
    "collapsed": true
   },
   "outputs": [],
   "source": [
    "gf_file = \"data/com-lj.ungraph.txt\"\n",
    "gf = snap.LoadEdgeList(snap.PUNGraph, gf_file, 0, 1)"
   ]
  },
  {
   "cell_type": "code",
   "execution_count": 4,
   "metadata": {
    "collapsed": false
   },
   "outputs": [
    {
     "name": "stdout",
     "output_type": "stream",
     "text": [
      "Load graph! With nodes  3997962  and edges  34681189\n"
     ]
    }
   ],
   "source": [
    "print \"Load graph! With nodes \", gf.GetNodes(), \" and edges \", gf.GetEdges()"
   ]
  },
  {
   "cell_type": "code",
   "execution_count": 5,
   "metadata": {
    "collapsed": true
   },
   "outputs": [],
   "source": [
    "##--get graph map\n",
    "def get_graph_info(gf_file):\n",
    "    '''\n",
    "    get graph information as a map\n",
    "    key: user id, value: list of friend id\n",
    "    '''\n",
    "    gf_map = {}\n",
    "    with open(gf_file, 'r') as cf:\n",
    "        for line in cf:\n",
    "            if line[0] != '#':\n",
    "                node_list = line.split('\\t')\n",
    "                if len(node_list) == 2:\n",
    "                    node_list = [int(id) for id in node_list]\n",
    "                    if node_list[0] in gf_map:\n",
    "                        gf_map[node_list[0]].add(node_list[1])\n",
    "                    else:\n",
    "                        gf_map[node_list[0]] = set([node_list[1]])\n",
    "                    if node_list[1] in gf_map:\n",
    "                        gf_map[node_list[1]].add(node_list[0])\n",
    "                    else:\n",
    "                        gf_map[node_list[1]] = set([node_list[0]])                    \n",
    "                else:\n",
    "                    print \"wrong format line: \", line\n",
    "    return gf_map"
   ]
  },
  {
   "cell_type": "code",
   "execution_count": 6,
   "metadata": {
    "collapsed": true
   },
   "outputs": [],
   "source": [
    "gf_map = get_graph_info(gf_file)"
   ]
  },
  {
   "cell_type": "code",
   "execution_count": 7,
   "metadata": {
    "collapsed": false
   },
   "outputs": [
    {
     "data": {
      "text/plain": [
       "3997962"
      ]
     },
     "execution_count": 7,
     "metadata": {},
     "output_type": "execute_result"
    }
   ],
   "source": [
    "len(gf_map)"
   ]
  },
  {
   "cell_type": "code",
   "execution_count": 33,
   "metadata": {
    "collapsed": true
   },
   "outputs": [],
   "source": [
    "def lnr_thres_mod_1step_v2(gf_map, act_nod_list, new_act_nod):\n",
    "    '''\n",
    "    perform 1 step independent cascade model\n",
    "    '''\n",
    "    new_pre_nod = set()\n",
    "    for id in new_act_nod:\n",
    "        for nbr_id in gf_map[id]:\n",
    "            if nbr_id not in act_nod_list:\n",
    "                lim = random.random()\n",
    "                if lim < prob:\n",
    "                    new_pre_nod.add(nbr_id)\n",
    "                    act_nod_list.add(nbr_id)\n",
    "    return act_nod_list, new_pre_nod"
   ]
  },
  {
   "cell_type": "code",
   "execution_count": null,
   "metadata": {
    "collapsed": false
   },
   "outputs": [],
   "source": [
    "##--get run the model with random initial\n",
    "prob = 0.01\n",
    "mean_list = {}\n",
    "std_list = {}\n",
    "\n",
    "for total_iter in [10, 100, 1000, 10000, 100000, 1000000]:\n",
    "    total_influence = [0] * total_iter\n",
    "    for i in xrange(total_iter):\n",
    "        init_set = 1\n",
    "        new_act_nod = []\n",
    "        for j in xrange(init_set):\n",
    "            new_act_nod.append(gf.GetRndNId())\n",
    "        act_nod_list = new_act_nod[:]\n",
    "        while len(new_act_nod) != 0:\n",
    "            act_nod_list, new_act_nod = ind_cas_mod_1step(gf, act_nod_list, new_act_nod, prob)\n",
    "        total_influence[i] = len(act_nod_list)\n",
    "    total_influence = pd.DataFrame(total_influence)\n",
    "    mean_list[total_iter] = total_influence.mean()[0]\n",
    "    std_list[total_iter] = total_influence.std()[0]\n",
    "    print total_iter, mean_list[total_iter], std_list[total_iter]"
   ]
  },
  {
   "cell_type": "code",
   "execution_count": 30,
   "metadata": {
    "collapsed": false
   },
   "outputs": [
    {
     "data": {
      "text/plain": [
       "{1: 1.0, 10: 1.1000000000000001}"
      ]
     },
     "execution_count": 30,
     "metadata": {},
     "output_type": "execute_result"
    }
   ],
   "source": [
    "mean_list"
   ]
  },
  {
   "cell_type": "code",
   "execution_count": 31,
   "metadata": {
    "collapsed": false
   },
   "outputs": [
    {
     "data": {
      "text/plain": [
       "{1: nan, 10: 0.31622776601683794}"
      ]
     },
     "execution_count": 31,
     "metadata": {},
     "output_type": "execute_result"
    }
   ],
   "source": [
    "std_list"
   ]
  },
  {
   "cell_type": "code",
   "execution_count": 28,
   "metadata": {
    "collapsed": false
   },
   "outputs": [
    {
     "data": {
      "text/plain": [
       "1.2"
      ]
     },
     "execution_count": 28,
     "metadata": {},
     "output_type": "execute_result"
    }
   ],
   "source": [
    "total_influence.mean()[0]"
   ]
  },
  {
   "cell_type": "code",
   "execution_count": null,
   "metadata": {
    "collapsed": true
   },
   "outputs": [],
   "source": []
  }
 ],
 "metadata": {
  "kernelspec": {
   "display_name": "Python [Root]",
   "language": "python",
   "name": "Python [Root]"
  },
  "language_info": {
   "codemirror_mode": {
    "name": "ipython",
    "version": 2
   },
   "file_extension": ".py",
   "mimetype": "text/x-python",
   "name": "python",
   "nbconvert_exporter": "python",
   "pygments_lexer": "ipython2",
   "version": "2.7.12"
  }
 },
 "nbformat": 4,
 "nbformat_minor": 0
}
