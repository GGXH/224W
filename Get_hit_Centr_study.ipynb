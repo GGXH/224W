{
 "cells": [
  {
   "cell_type": "code",
   "execution_count": 1,
   "metadata": {
    "collapsed": false
   },
   "outputs": [],
   "source": [
    "import operator\n",
    "import pickle\n",
    "import snap"
   ]
  },
  {
   "cell_type": "code",
   "execution_count": 2,
   "metadata": {
    "collapsed": true
   },
   "outputs": [],
   "source": [
    "def get_comm_info(comm_file):\n",
    "    '''\n",
    "    get community information, two maps\n",
    "    map1: key: user id, value: community id array\n",
    "    map2: key: community id, value: user id array\n",
    "    '''\n",
    "    comm_map_usr = {}\n",
    "    comm_map_comm = {}\n",
    "    comm_id = 0\n",
    "    with open(comm_file, 'r') as cf:\n",
    "        for line in cf:\n",
    "            node_list = line.split('\\t')\n",
    "            node_list = [int(id) for id in node_list]\n",
    "            for id in node_list:\n",
    "                if id in comm_map_usr:\n",
    "                    comm_map_usr[id].append(comm_id)\n",
    "                else:\n",
    "                    comm_map_usr[id] = [comm_id]\n",
    "            comm_map_comm[comm_id] = node_list[:]\n",
    "            comm_id += 1\n",
    "    return comm_map_usr, comm_map_comm"
   ]
  },
  {
   "cell_type": "code",
   "execution_count": 3,
   "metadata": {
    "collapsed": true
   },
   "outputs": [],
   "source": [
    "gf_file = \"data/com-lj.ungraph.txt\"\n",
    "gf = snap.LoadEdgeList(snap.PUNGraph, gf_file, 0, 1)"
   ]
  },
  {
   "cell_type": "code",
   "execution_count": 4,
   "metadata": {
    "collapsed": false
   },
   "outputs": [
    {
     "name": "stdout",
     "output_type": "stream",
     "text": [
      "Load graph! With nodes  3997962  and edges  34681189\n"
     ]
    }
   ],
   "source": [
    "print \"Load graph! With nodes \", gf.GetNodes(), \" and edges \", gf.GetEdges()"
   ]
  },
  {
   "cell_type": "code",
   "execution_count": 5,
   "metadata": {
    "collapsed": true
   },
   "outputs": [],
   "source": [
    "comm_file = 'data/com-lj.all.cmty.txt'\n",
    "\n",
    "comm_map_usr, comm_map_comm = get_comm_info(comm_file)"
   ]
  },
  {
   "cell_type": "code",
   "execution_count": 5,
   "metadata": {
    "collapsed": true
   },
   "outputs": [],
   "source": [
    "##--Get hubs and authorities score\n",
    "NIdHubH = snap.TIntFltH()\n",
    "NIdAuthH = snap.TIntFltH()\n",
    "snap.GetHits(gf, NIdHubH, NIdAuthH)"
   ]
  },
  {
   "cell_type": "code",
   "execution_count": 6,
   "metadata": {
    "collapsed": true
   },
   "outputs": [],
   "source": [
    "##--convert hash to map and dump to pkl file\n",
    "NIdHub_map = {}\n",
    "NIdAuth_map = {}\n",
    "for key in NIdHubH:\n",
    "    NIdHub_map[key] = NIdHubH[key]\n",
    "    \n",
    "for key in NIdAuthH:\n",
    "    NIdAuth_map[key] = NIdAuthH[key]\n",
    "\n",
    "hit_file = \"hit.pkl\"\n",
    "\n",
    "with  open(hit_file, \"wb\") as fl:\n",
    "    pickle.dump(NIdHub_map, fl)\n",
    "    pickle.dump(NIdAuth_map, fl)"
   ]
  },
  {
   "cell_type": "code",
   "execution_count": 7,
   "metadata": {
    "collapsed": true
   },
   "outputs": [],
   "source": [
    "##--reload pagerank data from pkl file\n",
    "NIdHub_map = {}\n",
    "NIdAuth_map = {}\n",
    "\n",
    "hit_file = \"hit.pkl\"\n",
    "\n",
    "with  open(hit_file, \"r\") as fl:\n",
    "    NIdHub_map = pickle.load(fl)\n",
    "    NIdAuth_map = pickle.load(fl)"
   ]
  },
  {
   "cell_type": "code",
   "execution_count": 6,
   "metadata": {
    "collapsed": false
   },
   "outputs": [],
   "source": [
    "##--get community size\n",
    "comm_size = {}\n",
    "\n",
    "for id in comm_map_comm:\n",
    "    comm_size[id] = len(comm_map_comm[id])\n",
    "    \n",
    "##--sorted community by its size\n",
    "sorted_comm_size = sorted(comm_size.items(), key = operator.itemgetter(1), reverse=True)\n",
    "\n",
    "sorted_id_comm_size = [ item[0] for item in sorted_comm_size ]"
   ]
  },
  {
   "cell_type": "code",
   "execution_count": 14,
   "metadata": {
    "collapsed": true
   },
   "outputs": [],
   "source": [
    "##--we see a single community as a graph\n",
    "def get_single_comm(gf, comm_map_comm, c_id):\n",
    "    '''\n",
    "    return a graph from a community in a graph\n",
    "    '''\n",
    "    node_id_list = comm_map_comm[c_id]\n",
    "    gf_comm = snap.TUNGraph.New()\n",
    "    for id in node_id_list:\n",
    "        gf_comm.AddNode(id)\n",
    "    for id in node_id_list:\n",
    "        ni = gf.GetNI(id)\n",
    "        deg = ni.GetDeg()\n",
    "        for nbr_i in xrange(deg):\n",
    "            nbr_id = ni.GetNbrNId(nbr_i)\n",
    "            if nbr_id in node_id_list:\n",
    "                gf_comm.AddEdge(id, nbr_id)\n",
    "    return gf_comm"
   ]
  },
  {
   "cell_type": "code",
   "execution_count": 15,
   "metadata": {
    "collapsed": true
   },
   "outputs": [],
   "source": [
    "##--rank nodes with ordered hub and authority in each community, if we see each single community as a graph\n",
    "comm_high_hub_cnt = {}\n",
    "comm_high_auth_cnt = {}\n",
    "for i in xrange(len(sorted_id_comm_size)):\n",
    "    comm_gf = get_single_comm(gf, comm_map_comm, sorted_id_comm_size[i])\n",
    "    tmp_NIdHubH = snap.TIntFltH()\n",
    "    tmp_NIdAuthH = snap.TIntFltH()\n",
    "    snap.GetHits(comm_gf, tmp_NIdHubH, tmp_NIdAuthH)\n",
    "    tmp_NIdHub_map = {}\n",
    "    tmp_NIdAuth_map = {}\n",
    "    for key in tmp_NIdHubH:\n",
    "        tmp_NIdHub_map[key] = tmp_NIdHubH[key] \n",
    "    for key in tmp_NIdAuthH:\n",
    "        tmp_NIdAuth_map[key] = tmp_NIdAuthH[key]\n",
    "    tmp_sorted_hub = sorted(tmp_NIdHub_map.items(), key = operator.itemgetter(1), reverse=True)\n",
    "    tmp_sorted_id_hub = [ item[0] for item in tmp_sorted_hub ]\n",
    "    tmp_sorted_auth = sorted(tmp_NIdAuth_map.items(), key = operator.itemgetter(1), reverse=True)\n",
    "    tmp_sorted_id_auth = [ item[0] for item in tmp_sorted_auth ]    \n",
    "    comm_high_hub_cnt[sorted_id_comm_size[i]] = tmp_sorted_id_hub\n",
    "    comm_high_auth_cnt[sorted_id_comm_size[i]] = tmp_sorted_id_auth"
   ]
  },
  {
   "cell_type": "code",
   "execution_count": 16,
   "metadata": {
    "collapsed": true
   },
   "outputs": [],
   "source": [
    "hit_file = \"hit_commonly.pkl\"\n",
    "\n",
    "with  open(hit_file, \"wb\") as fl:\n",
    "    pickle.dump(comm_high_hub_cnt, fl)\n",
    "    pickle.dump(comm_high_auth_cnt, fl)"
   ]
  },
  {
   "cell_type": "code",
   "execution_count": null,
   "metadata": {
    "collapsed": true
   },
   "outputs": [],
   "source": [
    "##--we see a single community and its immediate friend as a graph\n",
    "def get_single_comm1st(gf, comm_map_comm, c_id):\n",
    "    '''\n",
    "    return a graph from a community in a graph\n",
    "    '''\n",
    "    node_id_list = comm_map_comm[c_id]\n",
    "    gf_comm = snap.TUNGraph.New()\n",
    "    for id in node_id_list:\n",
    "        gf_comm.AddNode(id)\n",
    "    for id in node_id_list:\n",
    "        ni = gf.GetNI(id)\n",
    "        deg = ni.GetDeg()\n",
    "        for nbr_i in xrange(deg):\n",
    "            nbr_id = ni.GetNbrNId(nbr_i)\n",
    "            if not gf_comm.IsNode(nbr_id):\n",
    "                gf_comm.AddNode(nbr_id)\n",
    "            gf_comm.AddEdge(id, nbr_id)\n",
    "    return gf_comm"
   ]
  },
  {
   "cell_type": "code",
   "execution_count": null,
   "metadata": {
    "collapsed": true
   },
   "outputs": [],
   "source": [
    "##--rank nodes with ordered hub and authority in each community, if we see each single community as a graph\n",
    "comm_high_hub_cnt1st = {}\n",
    "comm_high_auth_cnt1st = {}\n",
    "for i in xrange(len(sorted_id_comm_size)):\n",
    "    comm_gf = get_single_comm1st(gf, comm_map_comm, sorted_id_comm_size[i])\n",
    "    tmp_NIdHubH = snap.TIntFltH()\n",
    "    tmp_NIdAuthH = snap.TIntFltH()\n",
    "    snap.GetHits(comm_gf, tmp_NIdHubH, tmp_NIdAuthH)\n",
    "    tmp_NIdHub_map = {}\n",
    "    tmp_NIdAuth_map = {}\n",
    "    for key in tmp_NIdHubH:\n",
    "        tmp_NIdHub_map[key] = tmp_NIdHubH[key] \n",
    "    for key in tmp_NIdAuthH:\n",
    "        tmp_NIdAuth_map[key] = tmp_NIdAuthH[key]\n",
    "    tmp_sorted_hub = sorted(tmp_NIdHub_map.items(), key = operator.itemgetter(1), reverse=True)\n",
    "    tmp_sorted_id_hub = [ item[0] for item in tmp_sorted_hub ]\n",
    "    tmp_sorted_auth = sorted(tmp_NIdAuth_map.items(), key = operator.itemgetter(1), reverse=True)\n",
    "    tmp_sorted_id_auth = [ item[0] for item in tmp_sorted_auth ]    \n",
    "    comm_high_hub_cnt1st[sorted_id_comm_size[i]] = tmp_sorted_id_hub\n",
    "    comm_high_auth_cnt1st[sorted_id_comm_size[i]] = tmp_sorted_id_auth"
   ]
  },
  {
   "cell_type": "code",
   "execution_count": null,
   "metadata": {
    "collapsed": true
   },
   "outputs": [],
   "source": [
    "hit_file = \"hit_comm1st.pkl\"\n",
    "\n",
    "with  open(hit_file, \"wb\") as fl:\n",
    "    pickle.dump(comm_high_hub_cnt1st, fl)\n",
    "    pickle.dump(comm_high_auth_cnt1st, fl)"
   ]
  },
  {
   "cell_type": "code",
   "execution_count": null,
   "metadata": {
    "collapsed": true
   },
   "outputs": [],
   "source": []
  }
 ],
 "metadata": {
  "kernelspec": {
   "display_name": "Python [Root]",
   "language": "python",
   "name": "Python [Root]"
  },
  "language_info": {
   "codemirror_mode": {
    "name": "ipython",
    "version": 2
   },
   "file_extension": ".py",
   "mimetype": "text/x-python",
   "name": "python",
   "nbconvert_exporter": "python",
   "pygments_lexer": "ipython2",
   "version": "2.7.12"
  }
 },
 "nbformat": 4,
 "nbformat_minor": 0
}
